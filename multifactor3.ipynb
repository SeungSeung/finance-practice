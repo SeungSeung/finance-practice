{
  "nbformat": 4,
  "nbformat_minor": 0,
  "metadata": {
    "colab": {
      "name": "multifactor3.ipynb",
      "provenance": []
    },
    "kernelspec": {
      "name": "python3",
      "display_name": "Python 3"
    },
    "language_info": {
      "name": "python"
    }
  },
  "cells": [
    {
      "cell_type": "code",
      "metadata": {
        "colab": {
          "base_uri": "https://localhost:8080/"
        },
        "id": "g9aXSM17RP44",
        "outputId": "a451b18a-a93c-4fa8-93e2-c4b45bc90d6f"
      },
      "source": [
        "!pip install yfinance"
      ],
      "execution_count": 2,
      "outputs": [
        {
          "output_type": "stream",
          "name": "stdout",
          "text": [
            "Collecting yfinance\n",
            "  Downloading yfinance-0.1.66-py2.py3-none-any.whl (25 kB)\n",
            "Collecting lxml>=4.5.1\n",
            "  Downloading lxml-4.6.4-cp37-cp37m-manylinux_2_17_x86_64.manylinux2014_x86_64.manylinux_2_24_x86_64.whl (6.3 MB)\n",
            "\u001b[K     |████████████████████████████████| 6.3 MB 5.8 MB/s \n",
            "\u001b[?25hRequirement already satisfied: pandas>=0.24 in /usr/local/lib/python3.7/dist-packages (from yfinance) (1.1.5)\n",
            "Requirement already satisfied: requests>=2.20 in /usr/local/lib/python3.7/dist-packages (from yfinance) (2.23.0)\n",
            "Requirement already satisfied: multitasking>=0.0.7 in /usr/local/lib/python3.7/dist-packages (from yfinance) (0.0.9)\n",
            "Requirement already satisfied: numpy>=1.15 in /usr/local/lib/python3.7/dist-packages (from yfinance) (1.19.5)\n",
            "Requirement already satisfied: pytz>=2017.2 in /usr/local/lib/python3.7/dist-packages (from pandas>=0.24->yfinance) (2018.9)\n",
            "Requirement already satisfied: python-dateutil>=2.7.3 in /usr/local/lib/python3.7/dist-packages (from pandas>=0.24->yfinance) (2.8.2)\n",
            "Requirement already satisfied: six>=1.5 in /usr/local/lib/python3.7/dist-packages (from python-dateutil>=2.7.3->pandas>=0.24->yfinance) (1.15.0)\n",
            "Requirement already satisfied: urllib3!=1.25.0,!=1.25.1,<1.26,>=1.21.1 in /usr/local/lib/python3.7/dist-packages (from requests>=2.20->yfinance) (1.24.3)\n",
            "Requirement already satisfied: certifi>=2017.4.17 in /usr/local/lib/python3.7/dist-packages (from requests>=2.20->yfinance) (2021.10.8)\n",
            "Requirement already satisfied: idna<3,>=2.5 in /usr/local/lib/python3.7/dist-packages (from requests>=2.20->yfinance) (2.10)\n",
            "Requirement already satisfied: chardet<4,>=3.0.2 in /usr/local/lib/python3.7/dist-packages (from requests>=2.20->yfinance) (3.0.4)\n",
            "Installing collected packages: lxml, yfinance\n",
            "  Attempting uninstall: lxml\n",
            "    Found existing installation: lxml 4.2.6\n",
            "    Uninstalling lxml-4.2.6:\n",
            "      Successfully uninstalled lxml-4.2.6\n",
            "Successfully installed lxml-4.6.4 yfinance-0.1.66\n"
          ]
        }
      ]
    },
    {
      "cell_type": "code",
      "metadata": {
        "id": "nItk97seRXjh"
      },
      "source": [
        "import yfinance as yf\n",
        "import pandas as pd\n",
        "import numpy as np\n",
        "import statsmodels.formula.api as smf\n",
        "import pandas_datareader.data as web"
      ],
      "execution_count": 3,
      "outputs": []
    },
    {
      "cell_type": "code",
      "metadata": {
        "id": "pRKjWclvRrX0"
      },
      "source": [
        "assets=['MSFT','TSLA','NVDA','GOOG']\n",
        "weight=[0.25,0.25,0.25,0.25]\n",
        "start_date='2013-12-31'\n",
        "end_date='2018-12-31'"
      ],
      "execution_count": 4,
      "outputs": []
    },
    {
      "cell_type": "code",
      "metadata": {
        "id": "2x9QLZWiT2oo"
      },
      "source": [
        "# three factors \n",
        "df_three_factor = web.DataReader('F-F_Research_Data_Factors', 'famafrench', \n",
        "                                 start=start_date)[0]\n",
        "df_three_factor.index = df_three_factor.index.format()\n",
        "\n",
        "# momentum factor\n",
        "df_mom = web.DataReader('F-F_Momentum_Factor', 'famafrench', \n",
        "                        start=start_date)[0]\n",
        "df_mom.index = df_mom.index.format()\n",
        "\n",
        "# five factors\n",
        "df_five_factor = web.DataReader('F-F_Research_Data_5_Factors_2x3', \n",
        "                                'famafrench', \n",
        "                                start=start_date)[0]\n",
        "df_five_factor.index = df_five_factor.index.format()"
      ],
      "execution_count": 7,
      "outputs": []
    },
    {
      "cell_type": "code",
      "metadata": {
        "id": "fC1IzXGTUY9O"
      },
      "source": [
        "port=yf.download(assets,start=start_date,end=end_date,adjusted=True,progress=False)"
      ],
      "execution_count": 8,
      "outputs": []
    },
    {
      "cell_type": "code",
      "metadata": {
        "id": "8ZDwHsXuU14m"
      },
      "source": [
        "y=port['Adj Close'].resample('W')\\\n",
        "                    .last()\\\n",
        "                    .pct_change()\\\n",
        "                    .dropna()\n",
        "y.index=y.index.strftime('%Y-%m')"
      ],
      "execution_count": 9,
      "outputs": []
    },
    {
      "cell_type": "code",
      "metadata": {
        "colab": {
          "base_uri": "https://localhost:8080/",
          "height": 238
        },
        "id": "7mVe_iicVZsZ",
        "outputId": "f8c3e58e-1f85-4d49-f53d-d974a1e0c7ec"
      },
      "source": [
        "y['portfolio_rtn']=np.matmul(y[assets].values,weight)\n",
        "y.head()"
      ],
      "execution_count": 11,
      "outputs": [
        {
          "output_type": "execute_result",
          "data": {
            "text/html": [
              "<div>\n",
              "<style scoped>\n",
              "    .dataframe tbody tr th:only-of-type {\n",
              "        vertical-align: middle;\n",
              "    }\n",
              "\n",
              "    .dataframe tbody tr th {\n",
              "        vertical-align: top;\n",
              "    }\n",
              "\n",
              "    .dataframe thead th {\n",
              "        text-align: right;\n",
              "    }\n",
              "</style>\n",
              "<table border=\"1\" class=\"dataframe\">\n",
              "  <thead>\n",
              "    <tr style=\"text-align: right;\">\n",
              "      <th></th>\n",
              "      <th>GOOG</th>\n",
              "      <th>MSFT</th>\n",
              "      <th>NVDA</th>\n",
              "      <th>TSLA</th>\n",
              "      <th>portfolio_rtn</th>\n",
              "    </tr>\n",
              "    <tr>\n",
              "      <th>Date</th>\n",
              "      <th></th>\n",
              "      <th></th>\n",
              "      <th></th>\n",
              "      <th></th>\n",
              "      <th></th>\n",
              "    </tr>\n",
              "  </thead>\n",
              "  <tbody>\n",
              "    <tr>\n",
              "      <th>2014-01</th>\n",
              "      <td>0.022787</td>\n",
              "      <td>-0.023571</td>\n",
              "      <td>0.003829</td>\n",
              "      <td>-0.025675</td>\n",
              "      <td>-0.005657</td>\n",
              "    </tr>\n",
              "    <tr>\n",
              "      <th>2014-01</th>\n",
              "      <td>0.018006</td>\n",
              "      <td>0.009434</td>\n",
              "      <td>0.016529</td>\n",
              "      <td>0.166690</td>\n",
              "      <td>0.052664</td>\n",
              "    </tr>\n",
              "    <tr>\n",
              "      <th>2014-01</th>\n",
              "      <td>-0.023207</td>\n",
              "      <td>0.011820</td>\n",
              "      <td>-0.026892</td>\n",
              "      <td>0.026998</td>\n",
              "      <td>-0.002820</td>\n",
              "    </tr>\n",
              "    <tr>\n",
              "      <th>2014-02</th>\n",
              "      <td>0.050844</td>\n",
              "      <td>0.027981</td>\n",
              "      <td>0.008997</td>\n",
              "      <td>0.039004</td>\n",
              "      <td>0.031707</td>\n",
              "    </tr>\n",
              "    <tr>\n",
              "      <th>2014-02</th>\n",
              "      <td>-0.002989</td>\n",
              "      <td>-0.033827</td>\n",
              "      <td>0.010828</td>\n",
              "      <td>0.028223</td>\n",
              "      <td>0.000559</td>\n",
              "    </tr>\n",
              "  </tbody>\n",
              "</table>\n",
              "</div>"
            ],
            "text/plain": [
              "             GOOG      MSFT      NVDA      TSLA  portfolio_rtn\n",
              "Date                                                          \n",
              "2014-01  0.022787 -0.023571  0.003829 -0.025675      -0.005657\n",
              "2014-01  0.018006  0.009434  0.016529  0.166690       0.052664\n",
              "2014-01 -0.023207  0.011820 -0.026892  0.026998      -0.002820\n",
              "2014-02  0.050844  0.027981  0.008997  0.039004       0.031707\n",
              "2014-02 -0.002989 -0.033827  0.010828  0.028223       0.000559"
            ]
          },
          "metadata": {},
          "execution_count": 11
        }
      ]
    },
    {
      "cell_type": "code",
      "metadata": {
        "colab": {
          "base_uri": "https://localhost:8080/",
          "height": 297
        },
        "id": "WOLdAyn2VyU5",
        "outputId": "7349f8b5-f69b-47e6-f3c2-8848c31afb53"
      },
      "source": [
        "# join all datasets on the index\n",
        "four_factor_data = df_three_factor.join(df_mom).join(y).drop(assets,axis=1)\n",
        "\n",
        "# rename columns\n",
        "four_factor_data.columns = ['mkt', 'smb', 'hml', 'rf', 'mom', 'rtn']\n",
        "\n",
        "# divide everything (except returns) by 100\n",
        "four_factor_data.loc[:, four_factor_data.columns != 'rtn'] /= 100\n",
        "\n",
        "# convert index to datetime\n",
        "four_factor_data.index = [pd.to_datetime(x, format='%Y-%m') for x in four_factor_data.index]\n",
        "\n",
        "# select period of interest\n",
        "four_factor_data = four_factor_data.loc[start_date:end_date]\n",
        "\n",
        "# calculate excess returns\n",
        "four_factor_data['excess_rtn'] = four_factor_data.rtn - four_factor_data.rf\n",
        "\n",
        "four_factor_data.head()"
      ],
      "execution_count": 12,
      "outputs": [
        {
          "output_type": "stream",
          "name": "stderr",
          "text": [
            "/usr/local/lib/python3.7/dist-packages/ipykernel_launcher.py:17: SettingWithCopyWarning: \n",
            "A value is trying to be set on a copy of a slice from a DataFrame.\n",
            "Try using .loc[row_indexer,col_indexer] = value instead\n",
            "\n",
            "See the caveats in the documentation: https://pandas.pydata.org/pandas-docs/stable/user_guide/indexing.html#returning-a-view-versus-a-copy\n"
          ]
        },
        {
          "output_type": "execute_result",
          "data": {
            "text/html": [
              "<div>\n",
              "<style scoped>\n",
              "    .dataframe tbody tr th:only-of-type {\n",
              "        vertical-align: middle;\n",
              "    }\n",
              "\n",
              "    .dataframe tbody tr th {\n",
              "        vertical-align: top;\n",
              "    }\n",
              "\n",
              "    .dataframe thead th {\n",
              "        text-align: right;\n",
              "    }\n",
              "</style>\n",
              "<table border=\"1\" class=\"dataframe\">\n",
              "  <thead>\n",
              "    <tr style=\"text-align: right;\">\n",
              "      <th></th>\n",
              "      <th>mkt</th>\n",
              "      <th>smb</th>\n",
              "      <th>hml</th>\n",
              "      <th>rf</th>\n",
              "      <th>mom</th>\n",
              "      <th>rtn</th>\n",
              "      <th>excess_rtn</th>\n",
              "    </tr>\n",
              "  </thead>\n",
              "  <tbody>\n",
              "    <tr>\n",
              "      <th>2014-01-01</th>\n",
              "      <td>-0.0332</td>\n",
              "      <td>0.0092</td>\n",
              "      <td>-0.0202</td>\n",
              "      <td>0.0</td>\n",
              "      <td>0.0171</td>\n",
              "      <td>-0.005657</td>\n",
              "      <td>-0.005657</td>\n",
              "    </tr>\n",
              "    <tr>\n",
              "      <th>2014-01-01</th>\n",
              "      <td>-0.0332</td>\n",
              "      <td>0.0092</td>\n",
              "      <td>-0.0202</td>\n",
              "      <td>0.0</td>\n",
              "      <td>0.0171</td>\n",
              "      <td>0.052664</td>\n",
              "      <td>0.052664</td>\n",
              "    </tr>\n",
              "    <tr>\n",
              "      <th>2014-01-01</th>\n",
              "      <td>-0.0332</td>\n",
              "      <td>0.0092</td>\n",
              "      <td>-0.0202</td>\n",
              "      <td>0.0</td>\n",
              "      <td>0.0171</td>\n",
              "      <td>-0.002820</td>\n",
              "      <td>-0.002820</td>\n",
              "    </tr>\n",
              "    <tr>\n",
              "      <th>2014-02-01</th>\n",
              "      <td>0.0465</td>\n",
              "      <td>0.0037</td>\n",
              "      <td>-0.0031</td>\n",
              "      <td>0.0</td>\n",
              "      <td>0.0207</td>\n",
              "      <td>0.031707</td>\n",
              "      <td>0.031707</td>\n",
              "    </tr>\n",
              "    <tr>\n",
              "      <th>2014-02-01</th>\n",
              "      <td>0.0465</td>\n",
              "      <td>0.0037</td>\n",
              "      <td>-0.0031</td>\n",
              "      <td>0.0</td>\n",
              "      <td>0.0207</td>\n",
              "      <td>0.000559</td>\n",
              "      <td>0.000559</td>\n",
              "    </tr>\n",
              "  </tbody>\n",
              "</table>\n",
              "</div>"
            ],
            "text/plain": [
              "               mkt     smb     hml   rf     mom       rtn  excess_rtn\n",
              "2014-01-01 -0.0332  0.0092 -0.0202  0.0  0.0171 -0.005657   -0.005657\n",
              "2014-01-01 -0.0332  0.0092 -0.0202  0.0  0.0171  0.052664    0.052664\n",
              "2014-01-01 -0.0332  0.0092 -0.0202  0.0  0.0171 -0.002820   -0.002820\n",
              "2014-02-01  0.0465  0.0037 -0.0031  0.0  0.0207  0.031707    0.031707\n",
              "2014-02-01  0.0465  0.0037 -0.0031  0.0  0.0207  0.000559    0.000559"
            ]
          },
          "metadata": {},
          "execution_count": 12
        }
      ]
    },
    {
      "cell_type": "code",
      "metadata": {
        "colab": {
          "base_uri": "https://localhost:8080/",
          "height": 206
        },
        "id": "BEkXiY7CW5j9",
        "outputId": "bcbe6599-d095-4d39-a7a3-1162eefd5f61"
      },
      "source": [
        "# join all datasets on the index\n",
        "five_factor_data = df_five_factor.join(y).drop(assets,axis=1)\n",
        "\n",
        "# rename columns\n",
        "five_factor_data.columns = ['mkt', 'smb', 'hml', 'rmw', 'cma', 'rf', 'rtn']\n",
        "\n",
        "# divide everything (except returns) by 100\n",
        "five_factor_data.loc[:, five_factor_data.columns != 'rtn'] /= 100\n",
        "\n",
        "# convert index to datetime\n",
        "five_factor_data.index = [pd.to_datetime(x, format='%Y-%m') for x in five_factor_data.index]\n",
        "\n",
        "# select period of interest\n",
        "five_factor_data = five_factor_data.loc[start_date:end_date]\n",
        "\n",
        "# calculate excess returns\n",
        "five_factor_data['excess_rtn'] = five_factor_data.rtn - five_factor_data.rf\n",
        "\n",
        "five_factor_data.head()"
      ],
      "execution_count": 13,
      "outputs": [
        {
          "output_type": "execute_result",
          "data": {
            "text/html": [
              "<div>\n",
              "<style scoped>\n",
              "    .dataframe tbody tr th:only-of-type {\n",
              "        vertical-align: middle;\n",
              "    }\n",
              "\n",
              "    .dataframe tbody tr th {\n",
              "        vertical-align: top;\n",
              "    }\n",
              "\n",
              "    .dataframe thead th {\n",
              "        text-align: right;\n",
              "    }\n",
              "</style>\n",
              "<table border=\"1\" class=\"dataframe\">\n",
              "  <thead>\n",
              "    <tr style=\"text-align: right;\">\n",
              "      <th></th>\n",
              "      <th>mkt</th>\n",
              "      <th>smb</th>\n",
              "      <th>hml</th>\n",
              "      <th>rmw</th>\n",
              "      <th>cma</th>\n",
              "      <th>rf</th>\n",
              "      <th>rtn</th>\n",
              "      <th>excess_rtn</th>\n",
              "    </tr>\n",
              "  </thead>\n",
              "  <tbody>\n",
              "    <tr>\n",
              "      <th>2014-01-01</th>\n",
              "      <td>-0.0332</td>\n",
              "      <td>0.0059</td>\n",
              "      <td>-0.0202</td>\n",
              "      <td>-0.0388</td>\n",
              "      <td>-0.0143</td>\n",
              "      <td>0.0</td>\n",
              "      <td>-0.005657</td>\n",
              "      <td>-0.005657</td>\n",
              "    </tr>\n",
              "    <tr>\n",
              "      <th>2014-01-01</th>\n",
              "      <td>-0.0332</td>\n",
              "      <td>0.0059</td>\n",
              "      <td>-0.0202</td>\n",
              "      <td>-0.0388</td>\n",
              "      <td>-0.0143</td>\n",
              "      <td>0.0</td>\n",
              "      <td>0.052664</td>\n",
              "      <td>0.052664</td>\n",
              "    </tr>\n",
              "    <tr>\n",
              "      <th>2014-01-01</th>\n",
              "      <td>-0.0332</td>\n",
              "      <td>0.0059</td>\n",
              "      <td>-0.0202</td>\n",
              "      <td>-0.0388</td>\n",
              "      <td>-0.0143</td>\n",
              "      <td>0.0</td>\n",
              "      <td>-0.002820</td>\n",
              "      <td>-0.002820</td>\n",
              "    </tr>\n",
              "    <tr>\n",
              "      <th>2014-02-01</th>\n",
              "      <td>0.0465</td>\n",
              "      <td>0.0016</td>\n",
              "      <td>-0.0031</td>\n",
              "      <td>-0.0023</td>\n",
              "      <td>-0.0048</td>\n",
              "      <td>0.0</td>\n",
              "      <td>0.031707</td>\n",
              "      <td>0.031707</td>\n",
              "    </tr>\n",
              "    <tr>\n",
              "      <th>2014-02-01</th>\n",
              "      <td>0.0465</td>\n",
              "      <td>0.0016</td>\n",
              "      <td>-0.0031</td>\n",
              "      <td>-0.0023</td>\n",
              "      <td>-0.0048</td>\n",
              "      <td>0.0</td>\n",
              "      <td>0.000559</td>\n",
              "      <td>0.000559</td>\n",
              "    </tr>\n",
              "  </tbody>\n",
              "</table>\n",
              "</div>"
            ],
            "text/plain": [
              "               mkt     smb     hml     rmw     cma   rf       rtn  excess_rtn\n",
              "2014-01-01 -0.0332  0.0059 -0.0202 -0.0388 -0.0143  0.0 -0.005657   -0.005657\n",
              "2014-01-01 -0.0332  0.0059 -0.0202 -0.0388 -0.0143  0.0  0.052664    0.052664\n",
              "2014-01-01 -0.0332  0.0059 -0.0202 -0.0388 -0.0143  0.0 -0.002820   -0.002820\n",
              "2014-02-01  0.0465  0.0016 -0.0031 -0.0023 -0.0048  0.0  0.031707    0.031707\n",
              "2014-02-01  0.0465  0.0016 -0.0031 -0.0023 -0.0048  0.0  0.000559    0.000559"
            ]
          },
          "metadata": {},
          "execution_count": 13
        }
      ]
    },
    {
      "cell_type": "code",
      "metadata": {
        "colab": {
          "base_uri": "https://localhost:8080/"
        },
        "id": "mp0GJOTDXo68",
        "outputId": "068c8382-581b-427d-a2b6-9c684bd2fb12"
      },
      "source": [
        "four_factor_model=smf.ols(formula='excess_rtn ~ mkt + smb + hml + mom',data=four_factor_data).fit()\n",
        "print(four_factor_model.summary())"
      ],
      "execution_count": 14,
      "outputs": [
        {
          "output_type": "stream",
          "name": "stdout",
          "text": [
            "                            OLS Regression Results                            \n",
            "==============================================================================\n",
            "Dep. Variable:             excess_rtn   R-squared:                       0.044\n",
            "Model:                            OLS   Adj. R-squared:                  0.029\n",
            "Method:                 Least Squares   F-statistic:                     2.932\n",
            "Date:                Wed, 17 Nov 2021   Prob (F-statistic):             0.0214\n",
            "Time:                        10:10:45   Log-Likelihood:                 527.35\n",
            "No. Observations:                 260   AIC:                            -1045.\n",
            "Df Residuals:                     255   BIC:                            -1027.\n",
            "Df Model:                           4                                         \n",
            "Covariance Type:            nonrobust                                         \n",
            "==============================================================================\n",
            "                 coef    std err          t      P>|t|      [0.025      0.975]\n",
            "------------------------------------------------------------------------------\n",
            "Intercept      0.0038      0.002      1.853      0.065      -0.000       0.008\n",
            "mkt            0.2103      0.066      3.201      0.002       0.081       0.340\n",
            "smb           -0.0178      0.081     -0.219      0.827      -0.178       0.142\n",
            "hml           -0.0137      0.100     -0.137      0.892      -0.211       0.184\n",
            "mom           -0.0073      0.077     -0.096      0.924      -0.159       0.144\n",
            "==============================================================================\n",
            "Omnibus:                        4.069   Durbin-Watson:                   2.386\n",
            "Prob(Omnibus):                  0.131   Jarque-Bera (JB):                4.383\n",
            "Skew:                          -0.151   Prob(JB):                        0.112\n",
            "Kurtosis:                       3.560   Cond. No.                         57.2\n",
            "==============================================================================\n",
            "\n",
            "Warnings:\n",
            "[1] Standard Errors assume that the covariance matrix of the errors is correctly specified.\n"
          ]
        }
      ]
    },
    {
      "cell_type": "code",
      "metadata": {
        "colab": {
          "base_uri": "https://localhost:8080/"
        },
        "id": "WV1KxP8cYJhk",
        "outputId": "0e8a1097-e381-4ff1-fd92-7cd1834be10a"
      },
      "source": [
        "five_factor_model=smf.ols(formula='excess_rtn ~ mkt + smb + hml + rmw + cma',data=five_factor_data).fit()\n",
        "print(five_factor_model.summary())"
      ],
      "execution_count": 15,
      "outputs": [
        {
          "output_type": "stream",
          "name": "stdout",
          "text": [
            "                            OLS Regression Results                            \n",
            "==============================================================================\n",
            "Dep. Variable:             excess_rtn   R-squared:                       0.055\n",
            "Model:                            OLS   Adj. R-squared:                  0.037\n",
            "Method:                 Least Squares   F-statistic:                     2.974\n",
            "Date:                Wed, 17 Nov 2021   Prob (F-statistic):             0.0125\n",
            "Time:                        10:12:13   Log-Likelihood:                 528.90\n",
            "No. Observations:                 260   AIC:                            -1046.\n",
            "Df Residuals:                     254   BIC:                            -1024.\n",
            "Df Model:                           5                                         \n",
            "Covariance Type:            nonrobust                                         \n",
            "==============================================================================\n",
            "                 coef    std err          t      P>|t|      [0.025      0.975]\n",
            "------------------------------------------------------------------------------\n",
            "Intercept      0.0037      0.002      1.799      0.073      -0.000       0.008\n",
            "mkt            0.1860      0.066      2.821      0.005       0.056       0.316\n",
            "smb           -0.0393      0.093     -0.425      0.672      -0.222       0.143\n",
            "hml            0.1128      0.111      1.014      0.312      -0.106       0.332\n",
            "rmw           -0.0475      0.153     -0.311      0.756      -0.348       0.253\n",
            "cma           -0.2895      0.181     -1.601      0.111      -0.646       0.067\n",
            "==============================================================================\n",
            "Omnibus:                        2.975   Durbin-Watson:                   2.403\n",
            "Prob(Omnibus):                  0.226   Jarque-Bera (JB):                3.031\n",
            "Skew:                          -0.103   Prob(JB):                        0.220\n",
            "Kurtosis:                       3.487   Cond. No.                         102.\n",
            "==============================================================================\n",
            "\n",
            "Warnings:\n",
            "[1] Standard Errors assume that the covariance matrix of the errors is correctly specified.\n"
          ]
        }
      ]
    },
    {
      "cell_type": "code",
      "metadata": {
        "id": "ezIjJUE_YfCL"
      },
      "source": [
        ""
      ],
      "execution_count": null,
      "outputs": []
    }
  ]
}