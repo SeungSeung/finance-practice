{
  "nbformat": 4,
  "nbformat_minor": 0,
  "metadata": {
    "colab": {
      "name": "euro_option.ipynb",
      "provenance": [],
      "collapsed_sections": []
    },
    "kernelspec": {
      "name": "python3",
      "display_name": "Python 3"
    },
    "language_info": {
      "name": "python"
    }
  },
  "cells": [
    {
      "cell_type": "code",
      "metadata": {
        "id": "VjurPxxR7pDk"
      },
      "source": [
        "import numpy as np\n",
        "import pandas as pd\n",
        "from scipy.stats import norm\n"
      ],
      "execution_count": null,
      "outputs": []
    },
    {
      "cell_type": "code",
      "metadata": {
        "id": "s0cb0nG6wL4S"
      },
      "source": [
        "S_0=100\n",
        "K=100\n",
        "r=0.05\n",
        "sigma=0.50\n",
        "T=1\n",
        "N=252\n",
        "dt=T/N\n",
        "n_sims=10**6\n",
        "discount_factor=np.exp(-r*T)"
      ],
      "execution_count": null,
      "outputs": []
    },
    {
      "cell_type": "code",
      "metadata": {
        "id": "5E7xyhwYwmRn"
      },
      "source": [
        "def black_scholes(S_0,K,T,r,sigma,type='call'):\n",
        "    d1=(np.log(S_0/K)+(r+0.5*sigma**2)*T)/(sigma*np.sqrt(T))\n",
        "    d2=(np.log(S_0/K)+(r-0.5*sigma**2)*T)/(sigma*np.sqrt(T))\n",
        "\n",
        "    if type=='call':\n",
        "        val=(S_0*norm.cdf(d1,0,1)-K*np.exp(-r*T)*norm.cdf(d2,0,1))\n",
        "\n",
        "    elif type=='put':\n",
        "        val=(K*np.exp(-r*T)*norm.cdf(-d2,0,1)-S_0*norm.cdf(-d1,0,1))\n",
        "\n",
        "\n",
        "    return val"
      ],
      "execution_count": null,
      "outputs": []
    },
    {
      "cell_type": "code",
      "metadata": {
        "colab": {
          "base_uri": "https://localhost:8080/"
        },
        "id": "HQpAiZbYyXx0",
        "outputId": "3fe16949-415d-47cb-a86f-1c9abd5167b9"
      },
      "source": [
        "black_scholes(S_0=S_0,K=K,T=T,r=r,sigma=sigma,type='call')"
      ],
      "execution_count": null,
      "outputs": [
        {
          "output_type": "execute_result",
          "data": {
            "text/plain": [
              "21.79260421286685"
            ]
          },
          "metadata": {},
          "execution_count": 9
        }
      ]
    },
    {
      "cell_type": "code",
      "metadata": {
        "colab": {
          "base_uri": "https://localhost:8080/"
        },
        "id": "azqPKjRwyn59",
        "outputId": "4d62d7fb-c88f-472a-bafd-3762ce6bf824"
      },
      "source": [
        "black_scholes(S_0=S_0, K=K, T=T, r=r, sigma=sigma, type='put')"
      ],
      "execution_count": null,
      "outputs": [
        {
          "output_type": "execute_result",
          "data": {
            "text/plain": [
              "16.915546662938254"
            ]
          },
          "metadata": {},
          "execution_count": 10
        }
      ]
    },
    {
      "cell_type": "code",
      "metadata": {
        "id": "BnC8AqdbzDVr"
      },
      "source": [
        "def simulate_gbm(s_0, mu, sigma, n_sims, T, N, random_seed=42, antithetic_var=False):\n",
        "    '''\n",
        "    Function used for simulating stock returns using Geometric Brownian Motion.\n",
        "    \n",
        "    Parameters\n",
        "    ----------\n",
        "    s_0 : float\n",
        "        Initial stock price\n",
        "    mu : float\n",
        "        Drift coefficient\n",
        "    sigma : float\n",
        "        Diffusion coefficient\n",
        "    n_sims : int\n",
        "        Number of simulations paths\n",
        "    dt : float\n",
        "        Time increment, most commonly a day\n",
        "    T : float\n",
        "        Length of the forecast horizon, same unit as dt\n",
        "    N : int\n",
        "        Number of time increments in the forecast horizon\n",
        "    random_seed : int\n",
        "        Random seed for reproducibility\n",
        "    antithetic_var : bool\n",
        "        Boolean whether to use antithetic variates approach to reduce variance\n",
        "    Returns\n",
        "    -------\n",
        "    S_t : np.ndarray\n",
        "        Matrix (size: n_sims x (T+1)) containing the simulation results. \n",
        "        Rows respresent sample paths, while columns point of time.\n",
        "    '''\n",
        "\n",
        "    np.random.seed(random_seed)\n",
        "\n",
        "    # time increment\n",
        "    dt = T/N\n",
        "\n",
        "    # Brownian\n",
        "    if antithetic_var:\n",
        "        dW_ant = np.random.normal(scale=np.sqrt(dt),\n",
        "                                  size=(int(n_sims/2), N + 1))\n",
        "        dW = np.concatenate((dW_ant, -dW_ant), axis=0)\n",
        "    else:\n",
        "        dW = np.random.normal(scale=np.sqrt(dt),\n",
        "                              size=(n_sims, N + 1))\n",
        "\n",
        "    # simulate the evolution of the process\n",
        "    S_t = s_0 * np.exp(np.cumsum((mu - 0.5 * sigma ** 2) * dt + sigma * dW,\n",
        "                                 axis=1))\n",
        "    S_t[:, 0] = s_0\n",
        "\n",
        "    return S_t\n"
      ],
      "execution_count": null,
      "outputs": []
    },
    {
      "cell_type": "code",
      "metadata": {
        "id": "Jcab7mpJzb99"
      },
      "source": [
        "gbm_sims=simulate_gbm(s_0=S_0,mu=r,sigma=sigma,n_sims=n_sims,T=T,N=N)"
      ],
      "execution_count": null,
      "outputs": []
    },
    {
      "cell_type": "code",
      "metadata": {
        "colab": {
          "base_uri": "https://localhost:8080/"
        },
        "id": "htyiw0AG0zaa",
        "outputId": "4a9eab82-5943-47d2-cd88-6cd5f623c20e"
      },
      "source": [
        "premieum=discount_factor*np.average(np.maximum(0,gbm_sims[:,-1]-K))\n",
        "premieum"
      ],
      "execution_count": null,
      "outputs": [
        {
          "output_type": "execute_result",
          "data": {
            "text/plain": [
              "21.756178586245806"
            ]
          },
          "metadata": {},
          "execution_count": 14
        }
      ]
    },
    {
      "cell_type": "code",
      "metadata": {
        "id": "EbEtoDop5vjD"
      },
      "source": [
        ""
      ],
      "execution_count": null,
      "outputs": []
    }
  ]
}