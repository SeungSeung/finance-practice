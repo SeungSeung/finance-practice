{
  "nbformat": 4,
  "nbformat_minor": 0,
  "metadata": {
    "colab": {
      "name": "multifactor model1.ipynb",
      "provenance": []
    },
    "kernelspec": {
      "name": "python3",
      "display_name": "Python 3"
    },
    "language_info": {
      "name": "python"
    }
  },
  "cells": [
    {
      "cell_type": "markdown",
      "metadata": {
        "id": "1L3c8VPn0c1M"
      },
      "source": [
        "# **CAPM**"
      ]
    },
    {
      "cell_type": "code",
      "metadata": {
        "colab": {
          "base_uri": "https://localhost:8080/"
        },
        "id": "yoSBekQtzvNs",
        "outputId": "4e3dc29d-2c4d-47f5-a82f-a1bc6069de0e"
      },
      "source": [
        "!pip install yfinance"
      ],
      "execution_count": 1,
      "outputs": [
        {
          "output_type": "stream",
          "name": "stdout",
          "text": [
            "Collecting yfinance\n",
            "  Downloading yfinance-0.1.66-py2.py3-none-any.whl (25 kB)\n",
            "Requirement already satisfied: pandas>=0.24 in /usr/local/lib/python3.7/dist-packages (from yfinance) (1.1.5)\n",
            "Requirement already satisfied: multitasking>=0.0.7 in /usr/local/lib/python3.7/dist-packages (from yfinance) (0.0.9)\n",
            "Requirement already satisfied: numpy>=1.15 in /usr/local/lib/python3.7/dist-packages (from yfinance) (1.19.5)\n",
            "Requirement already satisfied: requests>=2.20 in /usr/local/lib/python3.7/dist-packages (from yfinance) (2.23.0)\n",
            "Collecting lxml>=4.5.1\n",
            "  Downloading lxml-4.6.4-cp37-cp37m-manylinux_2_17_x86_64.manylinux2014_x86_64.manylinux_2_24_x86_64.whl (6.3 MB)\n",
            "\u001b[K     |████████████████████████████████| 6.3 MB 11.3 MB/s \n",
            "\u001b[?25hRequirement already satisfied: python-dateutil>=2.7.3 in /usr/local/lib/python3.7/dist-packages (from pandas>=0.24->yfinance) (2.8.2)\n",
            "Requirement already satisfied: pytz>=2017.2 in /usr/local/lib/python3.7/dist-packages (from pandas>=0.24->yfinance) (2018.9)\n",
            "Requirement already satisfied: six>=1.5 in /usr/local/lib/python3.7/dist-packages (from python-dateutil>=2.7.3->pandas>=0.24->yfinance) (1.15.0)\n",
            "Requirement already satisfied: idna<3,>=2.5 in /usr/local/lib/python3.7/dist-packages (from requests>=2.20->yfinance) (2.10)\n",
            "Requirement already satisfied: chardet<4,>=3.0.2 in /usr/local/lib/python3.7/dist-packages (from requests>=2.20->yfinance) (3.0.4)\n",
            "Requirement already satisfied: urllib3!=1.25.0,!=1.25.1,<1.26,>=1.21.1 in /usr/local/lib/python3.7/dist-packages (from requests>=2.20->yfinance) (1.24.3)\n",
            "Requirement already satisfied: certifi>=2017.4.17 in /usr/local/lib/python3.7/dist-packages (from requests>=2.20->yfinance) (2021.10.8)\n",
            "Installing collected packages: lxml, yfinance\n",
            "  Attempting uninstall: lxml\n",
            "    Found existing installation: lxml 4.2.6\n",
            "    Uninstalling lxml-4.2.6:\n",
            "      Successfully uninstalled lxml-4.2.6\n",
            "Successfully installed lxml-4.6.4 yfinance-0.1.66\n"
          ]
        }
      ]
    },
    {
      "cell_type": "code",
      "metadata": {
        "colab": {
          "base_uri": "https://localhost:8080/"
        },
        "id": "4bGat15p0lmc",
        "outputId": "23c5102f-5c3e-4508-872c-d9db8c85968b"
      },
      "source": [
        "import yfinance as yf\n",
        "import pandas as pd\n",
        "import statsmodels.api as sm"
      ],
      "execution_count": 2,
      "outputs": [
        {
          "output_type": "stream",
          "name": "stderr",
          "text": [
            "/usr/local/lib/python3.7/dist-packages/statsmodels/tools/_testing.py:19: FutureWarning: pandas.util.testing is deprecated. Use the functions in the public API at pandas.testing instead.\n",
            "  import pandas.util.testing as tm\n"
          ]
        }
      ]
    },
    {
      "cell_type": "code",
      "metadata": {
        "id": "5Vl04tZT0slV"
      },
      "source": [
        "RISKY_ASSET='MSFT'\n",
        "MARKET_BENCHMARK='^GSPC'\n",
        "START_DATE='2014-01-01'\n",
        "END_DATE='2018-12-31'"
      ],
      "execution_count": 3,
      "outputs": []
    },
    {
      "cell_type": "code",
      "metadata": {
        "colab": {
          "base_uri": "https://localhost:8080/",
          "height": 269
        },
        "id": "tJAtjJ5r07Ih",
        "outputId": "4a40e330-d80e-4cb7-c49a-a4bb10c3ae0b"
      },
      "source": [
        "df=yf.download([RISKY_ASSET,MARKET_BENCHMARK],start=START_DATE,end=END_DATE,adjusted=True,progress=False)\n",
        "df.head()"
      ],
      "execution_count": 6,
      "outputs": [
        {
          "output_type": "execute_result",
          "data": {
            "text/html": [
              "<div>\n",
              "<style scoped>\n",
              "    .dataframe tbody tr th:only-of-type {\n",
              "        vertical-align: middle;\n",
              "    }\n",
              "\n",
              "    .dataframe tbody tr th {\n",
              "        vertical-align: top;\n",
              "    }\n",
              "\n",
              "    .dataframe thead tr th {\n",
              "        text-align: left;\n",
              "    }\n",
              "\n",
              "    .dataframe thead tr:last-of-type th {\n",
              "        text-align: right;\n",
              "    }\n",
              "</style>\n",
              "<table border=\"1\" class=\"dataframe\">\n",
              "  <thead>\n",
              "    <tr>\n",
              "      <th></th>\n",
              "      <th colspan=\"2\" halign=\"left\">Adj Close</th>\n",
              "      <th colspan=\"2\" halign=\"left\">Close</th>\n",
              "      <th colspan=\"2\" halign=\"left\">High</th>\n",
              "      <th colspan=\"2\" halign=\"left\">Low</th>\n",
              "      <th colspan=\"2\" halign=\"left\">Open</th>\n",
              "      <th colspan=\"2\" halign=\"left\">Volume</th>\n",
              "    </tr>\n",
              "    <tr>\n",
              "      <th></th>\n",
              "      <th>MSFT</th>\n",
              "      <th>^GSPC</th>\n",
              "      <th>MSFT</th>\n",
              "      <th>^GSPC</th>\n",
              "      <th>MSFT</th>\n",
              "      <th>^GSPC</th>\n",
              "      <th>MSFT</th>\n",
              "      <th>^GSPC</th>\n",
              "      <th>MSFT</th>\n",
              "      <th>^GSPC</th>\n",
              "      <th>MSFT</th>\n",
              "      <th>^GSPC</th>\n",
              "    </tr>\n",
              "    <tr>\n",
              "      <th>Date</th>\n",
              "      <th></th>\n",
              "      <th></th>\n",
              "      <th></th>\n",
              "      <th></th>\n",
              "      <th></th>\n",
              "      <th></th>\n",
              "      <th></th>\n",
              "      <th></th>\n",
              "      <th></th>\n",
              "      <th></th>\n",
              "      <th></th>\n",
              "      <th></th>\n",
              "    </tr>\n",
              "  </thead>\n",
              "  <tbody>\n",
              "    <tr>\n",
              "      <th>2014-01-02</th>\n",
              "      <td>31.922371</td>\n",
              "      <td>1831.979980</td>\n",
              "      <td>37.160000</td>\n",
              "      <td>1831.979980</td>\n",
              "      <td>37.400002</td>\n",
              "      <td>1845.859985</td>\n",
              "      <td>37.099998</td>\n",
              "      <td>1827.739990</td>\n",
              "      <td>37.349998</td>\n",
              "      <td>1845.859985</td>\n",
              "      <td>30632200</td>\n",
              "      <td>3080600000</td>\n",
              "    </tr>\n",
              "    <tr>\n",
              "      <th>2014-01-03</th>\n",
              "      <td>31.707609</td>\n",
              "      <td>1831.369995</td>\n",
              "      <td>36.910000</td>\n",
              "      <td>1831.369995</td>\n",
              "      <td>37.220001</td>\n",
              "      <td>1838.239990</td>\n",
              "      <td>36.599998</td>\n",
              "      <td>1829.130005</td>\n",
              "      <td>37.200001</td>\n",
              "      <td>1833.209961</td>\n",
              "      <td>31134800</td>\n",
              "      <td>2774270000</td>\n",
              "    </tr>\n",
              "    <tr>\n",
              "      <th>2014-01-06</th>\n",
              "      <td>31.037552</td>\n",
              "      <td>1826.770020</td>\n",
              "      <td>36.130001</td>\n",
              "      <td>1826.770020</td>\n",
              "      <td>36.889999</td>\n",
              "      <td>1837.160034</td>\n",
              "      <td>36.110001</td>\n",
              "      <td>1823.729980</td>\n",
              "      <td>36.849998</td>\n",
              "      <td>1832.310059</td>\n",
              "      <td>43603700</td>\n",
              "      <td>3294850000</td>\n",
              "    </tr>\n",
              "    <tr>\n",
              "      <th>2014-01-07</th>\n",
              "      <td>31.278072</td>\n",
              "      <td>1837.880005</td>\n",
              "      <td>36.410000</td>\n",
              "      <td>1837.880005</td>\n",
              "      <td>36.490002</td>\n",
              "      <td>1840.099976</td>\n",
              "      <td>36.209999</td>\n",
              "      <td>1828.709961</td>\n",
              "      <td>36.330002</td>\n",
              "      <td>1828.709961</td>\n",
              "      <td>35802800</td>\n",
              "      <td>3511750000</td>\n",
              "    </tr>\n",
              "    <tr>\n",
              "      <th>2014-01-08</th>\n",
              "      <td>30.719687</td>\n",
              "      <td>1837.489990</td>\n",
              "      <td>35.759998</td>\n",
              "      <td>1837.489990</td>\n",
              "      <td>36.139999</td>\n",
              "      <td>1840.020020</td>\n",
              "      <td>35.580002</td>\n",
              "      <td>1831.400024</td>\n",
              "      <td>36.000000</td>\n",
              "      <td>1837.900024</td>\n",
              "      <td>59971700</td>\n",
              "      <td>3652140000</td>\n",
              "    </tr>\n",
              "  </tbody>\n",
              "</table>\n",
              "</div>"
            ],
            "text/plain": [
              "            Adj Close               ...    Volume            \n",
              "                 MSFT        ^GSPC  ...      MSFT       ^GSPC\n",
              "Date                                ...                      \n",
              "2014-01-02  31.922371  1831.979980  ...  30632200  3080600000\n",
              "2014-01-03  31.707609  1831.369995  ...  31134800  2774270000\n",
              "2014-01-06  31.037552  1826.770020  ...  43603700  3294850000\n",
              "2014-01-07  31.278072  1837.880005  ...  35802800  3511750000\n",
              "2014-01-08  30.719687  1837.489990  ...  59971700  3652140000\n",
              "\n",
              "[5 rows x 12 columns]"
            ]
          },
          "metadata": {},
          "execution_count": 6
        }
      ]
    },
    {
      "cell_type": "code",
      "metadata": {
        "colab": {
          "base_uri": "https://localhost:8080/",
          "height": 238
        },
        "id": "S_RfGkGf1DfY",
        "outputId": "993151da-77a1-48f1-882b-258610cc0827"
      },
      "source": [
        "msft=df['Adj Close'].rename(columns={RISKY_ASSET:'asset',MARKET_BENCHMARK:'market'})\\\n",
        "                    .resample('M')\\\n",
        "                    .last()\\\n",
        "                    .pct_change()\\\n",
        "                    .dropna()\n",
        "msft.head()"
      ],
      "execution_count": 26,
      "outputs": [
        {
          "output_type": "execute_result",
          "data": {
            "text/html": [
              "<div>\n",
              "<style scoped>\n",
              "    .dataframe tbody tr th:only-of-type {\n",
              "        vertical-align: middle;\n",
              "    }\n",
              "\n",
              "    .dataframe tbody tr th {\n",
              "        vertical-align: top;\n",
              "    }\n",
              "\n",
              "    .dataframe thead th {\n",
              "        text-align: right;\n",
              "    }\n",
              "</style>\n",
              "<table border=\"1\" class=\"dataframe\">\n",
              "  <thead>\n",
              "    <tr style=\"text-align: right;\">\n",
              "      <th></th>\n",
              "      <th>asset</th>\n",
              "      <th>market</th>\n",
              "    </tr>\n",
              "    <tr>\n",
              "      <th>Date</th>\n",
              "      <th></th>\n",
              "      <th></th>\n",
              "    </tr>\n",
              "  </thead>\n",
              "  <tbody>\n",
              "    <tr>\n",
              "      <th>2014-02-28</th>\n",
              "      <td>0.020012</td>\n",
              "      <td>0.043117</td>\n",
              "    </tr>\n",
              "    <tr>\n",
              "      <th>2014-03-31</th>\n",
              "      <td>0.069956</td>\n",
              "      <td>0.006932</td>\n",
              "    </tr>\n",
              "    <tr>\n",
              "      <th>2014-04-30</th>\n",
              "      <td>-0.014394</td>\n",
              "      <td>0.006201</td>\n",
              "    </tr>\n",
              "    <tr>\n",
              "      <th>2014-05-31</th>\n",
              "      <td>0.020515</td>\n",
              "      <td>0.021030</td>\n",
              "    </tr>\n",
              "    <tr>\n",
              "      <th>2014-06-30</th>\n",
              "      <td>0.018564</td>\n",
              "      <td>0.019058</td>\n",
              "    </tr>\n",
              "  </tbody>\n",
              "</table>\n",
              "</div>"
            ],
            "text/plain": [
              "               asset    market\n",
              "Date                          \n",
              "2014-02-28  0.020012  0.043117\n",
              "2014-03-31  0.069956  0.006932\n",
              "2014-04-30 -0.014394  0.006201\n",
              "2014-05-31  0.020515  0.021030\n",
              "2014-06-30  0.018564  0.019058"
            ]
          },
          "metadata": {},
          "execution_count": 26
        }
      ]
    },
    {
      "cell_type": "code",
      "metadata": {
        "colab": {
          "base_uri": "https://localhost:8080/"
        },
        "id": "qEAl1F4A1rve",
        "outputId": "627c56dc-9fde-4a67-c90c-50db6bd22a97"
      },
      "source": [
        "covariance=msft.cov().iloc[0,1]\n",
        "benchmark_variance=msft.market.var()\n",
        "beta=covariance/benchmark_variance\n",
        "beta"
      ],
      "execution_count": 27,
      "outputs": [
        {
          "output_type": "execute_result",
          "data": {
            "text/plain": [
              "1.27987545228286"
            ]
          },
          "metadata": {},
          "execution_count": 27
        }
      ]
    },
    {
      "cell_type": "code",
      "metadata": {
        "colab": {
          "base_uri": "https://localhost:8080/"
        },
        "id": "5WAtnz5w2lBf",
        "outputId": "5f677226-a774-452c-a837-600361d1fc29"
      },
      "source": [
        "y=msft.pop('asset')\n",
        "x=sm.add_constant(msft)\n",
        "capm_model=sm.OLS(y,x).fit()\n",
        "print(capm_model.summary())"
      ],
      "execution_count": 28,
      "outputs": [
        {
          "output_type": "stream",
          "name": "stdout",
          "text": [
            "                            OLS Regression Results                            \n",
            "==============================================================================\n",
            "Dep. Variable:                  asset   R-squared:                       0.442\n",
            "Model:                            OLS   Adj. R-squared:                  0.433\n",
            "Method:                 Least Squares   F-statistic:                     45.24\n",
            "Date:                Tue, 16 Nov 2021   Prob (F-statistic):           9.09e-09\n",
            "Time:                        13:36:51   Log-Likelihood:                 99.079\n",
            "No. Observations:                  59   AIC:                            -194.2\n",
            "Df Residuals:                      57   BIC:                            -190.0\n",
            "Df Model:                           1                                         \n",
            "Covariance Type:            nonrobust                                         \n",
            "==============================================================================\n",
            "                 coef    std err          t      P>|t|      [0.025      0.975]\n",
            "------------------------------------------------------------------------------\n",
            "const          0.0127      0.006      2.078      0.042       0.000       0.025\n",
            "market         1.2799      0.190      6.726      0.000       0.899       1.661\n",
            "==============================================================================\n",
            "Omnibus:                       10.112   Durbin-Watson:                   2.523\n",
            "Prob(Omnibus):                  0.006   Jarque-Bera (JB):               18.229\n",
            "Skew:                           0.438   Prob(JB):                     0.000110\n",
            "Kurtosis:                       5.578   Cond. No.                         31.8\n",
            "==============================================================================\n",
            "\n",
            "Warnings:\n",
            "[1] Standard Errors assume that the covariance matrix of the errors is correctly specified.\n"
          ]
        }
      ]
    },
    {
      "cell_type": "code",
      "metadata": {
        "colab": {
          "base_uri": "https://localhost:8080/",
          "height": 256
        },
        "id": "JZJ9_LiH3oAg",
        "outputId": "2092dc3e-a05a-4244-e6cf-e49d8a6e66e1"
      },
      "source": [
        "N_DAYS=90\n",
        "df_rf=yf.download('^IRX',start=START_DATE,end=END_DATE)\n",
        "df_rf.head()"
      ],
      "execution_count": 29,
      "outputs": [
        {
          "output_type": "stream",
          "name": "stdout",
          "text": [
            "\r[*********************100%***********************]  1 of 1 completed\n"
          ]
        },
        {
          "output_type": "execute_result",
          "data": {
            "text/html": [
              "<div>\n",
              "<style scoped>\n",
              "    .dataframe tbody tr th:only-of-type {\n",
              "        vertical-align: middle;\n",
              "    }\n",
              "\n",
              "    .dataframe tbody tr th {\n",
              "        vertical-align: top;\n",
              "    }\n",
              "\n",
              "    .dataframe thead th {\n",
              "        text-align: right;\n",
              "    }\n",
              "</style>\n",
              "<table border=\"1\" class=\"dataframe\">\n",
              "  <thead>\n",
              "    <tr style=\"text-align: right;\">\n",
              "      <th></th>\n",
              "      <th>Open</th>\n",
              "      <th>High</th>\n",
              "      <th>Low</th>\n",
              "      <th>Close</th>\n",
              "      <th>Adj Close</th>\n",
              "      <th>Volume</th>\n",
              "    </tr>\n",
              "    <tr>\n",
              "      <th>Date</th>\n",
              "      <th></th>\n",
              "      <th></th>\n",
              "      <th></th>\n",
              "      <th></th>\n",
              "      <th></th>\n",
              "      <th></th>\n",
              "    </tr>\n",
              "  </thead>\n",
              "  <tbody>\n",
              "    <tr>\n",
              "      <th>2014-01-02</th>\n",
              "      <td>0.060</td>\n",
              "      <td>0.060</td>\n",
              "      <td>0.055</td>\n",
              "      <td>0.058</td>\n",
              "      <td>0.058</td>\n",
              "      <td>0</td>\n",
              "    </tr>\n",
              "    <tr>\n",
              "      <th>2014-01-03</th>\n",
              "      <td>0.060</td>\n",
              "      <td>0.060</td>\n",
              "      <td>0.058</td>\n",
              "      <td>0.058</td>\n",
              "      <td>0.058</td>\n",
              "      <td>0</td>\n",
              "    </tr>\n",
              "    <tr>\n",
              "      <th>2014-01-06</th>\n",
              "      <td>0.055</td>\n",
              "      <td>0.055</td>\n",
              "      <td>0.045</td>\n",
              "      <td>0.045</td>\n",
              "      <td>0.045</td>\n",
              "      <td>0</td>\n",
              "    </tr>\n",
              "    <tr>\n",
              "      <th>2014-01-07</th>\n",
              "      <td>0.048</td>\n",
              "      <td>0.048</td>\n",
              "      <td>0.040</td>\n",
              "      <td>0.043</td>\n",
              "      <td>0.043</td>\n",
              "      <td>0</td>\n",
              "    </tr>\n",
              "    <tr>\n",
              "      <th>2014-01-08</th>\n",
              "      <td>0.037</td>\n",
              "      <td>0.043</td>\n",
              "      <td>0.035</td>\n",
              "      <td>0.040</td>\n",
              "      <td>0.040</td>\n",
              "      <td>0</td>\n",
              "    </tr>\n",
              "  </tbody>\n",
              "</table>\n",
              "</div>"
            ],
            "text/plain": [
              "             Open   High    Low  Close  Adj Close  Volume\n",
              "Date                                                     \n",
              "2014-01-02  0.060  0.060  0.055  0.058      0.058       0\n",
              "2014-01-03  0.060  0.060  0.058  0.058      0.058       0\n",
              "2014-01-06  0.055  0.055  0.045  0.045      0.045       0\n",
              "2014-01-07  0.048  0.048  0.040  0.043      0.043       0\n",
              "2014-01-08  0.037  0.043  0.035  0.040      0.040       0"
            ]
          },
          "metadata": {},
          "execution_count": 29
        }
      ]
    },
    {
      "cell_type": "code",
      "metadata": {
        "colab": {
          "base_uri": "https://localhost:8080/"
        },
        "id": "InkTKIYo6Xl8",
        "outputId": "e9611afd-3f58-44d4-db2a-727e3d36ad52"
      },
      "source": [
        "rf = df_rf.resample('M').last().Close / 100\n",
        "\n",
        "# calculate the corresponding daily risk-free return  \n",
        "rf = ( 1 / (1 - rf * N_DAYS / 360) )**(1 / N_DAYS)  \n",
        "\n",
        "# convert to monthly and subtract 1\n",
        "rf = (rf ** 30) - 1 \n",
        "rf.head()"
      ],
      "execution_count": 30,
      "outputs": [
        {
          "output_type": "execute_result",
          "data": {
            "text/plain": [
              "Date\n",
              "2014-01-31    0.000008\n",
              "2014-02-28    0.000036\n",
              "2014-03-31    0.000023\n",
              "2014-04-30    0.000017\n",
              "2014-05-31    0.000025\n",
              "Freq: M, Name: Close, dtype: float64"
            ]
          },
          "metadata": {},
          "execution_count": 30
        }
      ]
    },
    {
      "cell_type": "code",
      "metadata": {
        "colab": {
          "base_uri": "https://localhost:8080/",
          "height": 297
        },
        "id": "J8VpKqeM6vBY",
        "outputId": "f5edd3f4-e0d6-427b-8902-e87a6f0f09d2"
      },
      "source": [
        "rf.plot()"
      ],
      "execution_count": 31,
      "outputs": [
        {
          "output_type": "execute_result",
          "data": {
            "text/plain": [
              "<matplotlib.axes._subplots.AxesSubplot at 0x7f0168476f90>"
            ]
          },
          "metadata": {},
          "execution_count": 31
        },
        {
          "output_type": "display_data",
          "data": {
            "image/png": "[encoded data removed]",
            "text/plain": [
              "<Figure size 432x288 with 1 Axes>"
            ]
          },
          "metadata": {
            "needs_background": "light"
          }
        }
      ]
    },
    {
      "cell_type": "code",
      "metadata": {
        "colab": {
          "base_uri": "https://localhost:8080/",
          "height": 238
        },
        "id": "nXuii_GJ8Hjq",
        "outputId": "b6e75ffd-2ebb-450f-d352-633082365dbe"
      },
      "source": [
        "msft1=df['Adj Close'].rename(columns={RISKY_ASSET:'asset',MARKET_BENCHMARK:'market'})\\\n",
        "                    .resample('M')\\\n",
        "                    .last()\\\n",
        "                    .pct_change()\\\n",
        "                    .dropna()\n",
        "msft1.head()"
      ],
      "execution_count": 38,
      "outputs": [
        {
          "output_type": "execute_result",
          "data": {
            "text/html": [
              "<div>\n",
              "<style scoped>\n",
              "    .dataframe tbody tr th:only-of-type {\n",
              "        vertical-align: middle;\n",
              "    }\n",
              "\n",
              "    .dataframe tbody tr th {\n",
              "        vertical-align: top;\n",
              "    }\n",
              "\n",
              "    .dataframe thead th {\n",
              "        text-align: right;\n",
              "    }\n",
              "</style>\n",
              "<table border=\"1\" class=\"dataframe\">\n",
              "  <thead>\n",
              "    <tr style=\"text-align: right;\">\n",
              "      <th></th>\n",
              "      <th>asset</th>\n",
              "      <th>market</th>\n",
              "    </tr>\n",
              "    <tr>\n",
              "      <th>Date</th>\n",
              "      <th></th>\n",
              "      <th></th>\n",
              "    </tr>\n",
              "  </thead>\n",
              "  <tbody>\n",
              "    <tr>\n",
              "      <th>2014-02-28</th>\n",
              "      <td>0.020012</td>\n",
              "      <td>0.043117</td>\n",
              "    </tr>\n",
              "    <tr>\n",
              "      <th>2014-03-31</th>\n",
              "      <td>0.069956</td>\n",
              "      <td>0.006932</td>\n",
              "    </tr>\n",
              "    <tr>\n",
              "      <th>2014-04-30</th>\n",
              "      <td>-0.014394</td>\n",
              "      <td>0.006201</td>\n",
              "    </tr>\n",
              "    <tr>\n",
              "      <th>2014-05-31</th>\n",
              "      <td>0.020515</td>\n",
              "      <td>0.021030</td>\n",
              "    </tr>\n",
              "    <tr>\n",
              "      <th>2014-06-30</th>\n",
              "      <td>0.018564</td>\n",
              "      <td>0.019058</td>\n",
              "    </tr>\n",
              "  </tbody>\n",
              "</table>\n",
              "</div>"
            ],
            "text/plain": [
              "               asset    market\n",
              "Date                          \n",
              "2014-02-28  0.020012  0.043117\n",
              "2014-03-31  0.069956  0.006932\n",
              "2014-04-30 -0.014394  0.006201\n",
              "2014-05-31  0.020515  0.021030\n",
              "2014-06-30  0.018564  0.019058"
            ]
          },
          "metadata": {},
          "execution_count": 38
        }
      ]
    },
    {
      "cell_type": "code",
      "metadata": {
        "colab": {
          "base_uri": "https://localhost:8080/",
          "height": 238
        },
        "id": "g4qaCZP--KVD",
        "outputId": "d0ecac42-ec85-4030-bd63-ed55cb3f6919"
      },
      "source": [
        "msft1['market']=msft1['market']-rf\n",
        "msft1['asset']=msft1['asset']-rf\n",
        "msft1.head()"
      ],
      "execution_count": 39,
      "outputs": [
        {
          "output_type": "execute_result",
          "data": {
            "text/html": [
              "<div>\n",
              "<style scoped>\n",
              "    .dataframe tbody tr th:only-of-type {\n",
              "        vertical-align: middle;\n",
              "    }\n",
              "\n",
              "    .dataframe tbody tr th {\n",
              "        vertical-align: top;\n",
              "    }\n",
              "\n",
              "    .dataframe thead th {\n",
              "        text-align: right;\n",
              "    }\n",
              "</style>\n",
              "<table border=\"1\" class=\"dataframe\">\n",
              "  <thead>\n",
              "    <tr style=\"text-align: right;\">\n",
              "      <th></th>\n",
              "      <th>asset</th>\n",
              "      <th>market</th>\n",
              "    </tr>\n",
              "    <tr>\n",
              "      <th>Date</th>\n",
              "      <th></th>\n",
              "      <th></th>\n",
              "    </tr>\n",
              "  </thead>\n",
              "  <tbody>\n",
              "    <tr>\n",
              "      <th>2014-02-28</th>\n",
              "      <td>0.019976</td>\n",
              "      <td>0.043081</td>\n",
              "    </tr>\n",
              "    <tr>\n",
              "      <th>2014-03-31</th>\n",
              "      <td>0.069933</td>\n",
              "      <td>0.006909</td>\n",
              "    </tr>\n",
              "    <tr>\n",
              "      <th>2014-04-30</th>\n",
              "      <td>-0.014411</td>\n",
              "      <td>0.006184</td>\n",
              "    </tr>\n",
              "    <tr>\n",
              "      <th>2014-05-31</th>\n",
              "      <td>0.020490</td>\n",
              "      <td>0.021005</td>\n",
              "    </tr>\n",
              "    <tr>\n",
              "      <th>2014-06-30</th>\n",
              "      <td>0.018547</td>\n",
              "      <td>0.019042</td>\n",
              "    </tr>\n",
              "  </tbody>\n",
              "</table>\n",
              "</div>"
            ],
            "text/plain": [
              "               asset    market\n",
              "Date                          \n",
              "2014-02-28  0.019976  0.043081\n",
              "2014-03-31  0.069933  0.006909\n",
              "2014-04-30 -0.014411  0.006184\n",
              "2014-05-31  0.020490  0.021005\n",
              "2014-06-30  0.018547  0.019042"
            ]
          },
          "metadata": {},
          "execution_count": 39
        }
      ]
    },
    {
      "cell_type": "code",
      "metadata": {
        "colab": {
          "base_uri": "https://localhost:8080/"
        },
        "id": "_JhRp_nC7HDB",
        "outputId": "a94e05f5-87e6-4b2a-a66a-8d8e382af51f"
      },
      "source": [
        "y=msft1.pop('asset')\n",
        "x=sm.add_constant(msft1)\n",
        "capm_model=sm.OLS(y,x).fit()\n",
        "print(capm_model.summary())"
      ],
      "execution_count": 40,
      "outputs": [
        {
          "output_type": "stream",
          "name": "stdout",
          "text": [
            "                            OLS Regression Results                            \n",
            "==============================================================================\n",
            "Dep. Variable:                  asset   R-squared:                       0.442\n",
            "Model:                            OLS   Adj. R-squared:                  0.433\n",
            "Method:                 Least Squares   F-statistic:                     45.23\n",
            "Date:                Tue, 16 Nov 2021   Prob (F-statistic):           9.12e-09\n",
            "Time:                        13:41:01   Log-Likelihood:                 99.055\n",
            "No. Observations:                  59   AIC:                            -194.1\n",
            "Df Residuals:                      57   BIC:                            -190.0\n",
            "Df Model:                           1                                         \n",
            "Covariance Type:            nonrobust                                         \n",
            "==============================================================================\n",
            "                 coef    std err          t      P>|t|      [0.025      0.975]\n",
            "------------------------------------------------------------------------------\n",
            "const          0.0128      0.006      2.113      0.039       0.001       0.025\n",
            "market         1.2760      0.190      6.725      0.000       0.896       1.656\n",
            "==============================================================================\n",
            "Omnibus:                       10.019   Durbin-Watson:                   2.522\n",
            "Prob(Omnibus):                  0.007   Jarque-Bera (JB):               18.045\n",
            "Skew:                           0.431   Prob(JB):                     0.000121\n",
            "Kurtosis:                       5.569   Cond. No.                         31.7\n",
            "==============================================================================\n",
            "\n",
            "Warnings:\n",
            "[1] Standard Errors assume that the covariance matrix of the errors is correctly specified.\n"
          ]
        }
      ]
    },
    {
      "cell_type": "code",
      "metadata": {
        "id": "idn8WXUL85Lw"
      },
      "source": [
        ""
      ],
      "execution_count": null,
      "outputs": []
    }
  ]
}