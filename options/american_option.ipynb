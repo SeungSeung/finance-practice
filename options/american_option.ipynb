{
  "nbformat": 4,
  "nbformat_minor": 0,
  "metadata": {
    "colab": {
      "name": "american_option.ipynb",
      "provenance": [],
      "collapsed_sections": []
    },
    "kernelspec": {
      "name": "python3",
      "display_name": "Python 3"
    },
    "language_info": {
      "name": "python"
    }
  },
  "cells": [
    {
      "cell_type": "code",
      "metadata": {
        "id": "P5ksjPTv6R7z"
      },
      "source": [
        "import numpy as np\n",
        "from scipy.stats import norm\n"
      ],
      "execution_count": null,
      "outputs": []
    },
    {
      "cell_type": "code",
      "metadata": {
        "id": "SwmSfTgN98tj"
      },
      "source": [
        "S_0=36\n",
        "K=40\n",
        "r=0.06\n",
        "sigma=0.2\n",
        "T=1\n",
        "N=50\n",
        "dt=T/N\n",
        "n_sims=10**6\n",
        "discount_factor=np.exp(-r**dt)\n",
        "OPTION_TYPE='put'\n",
        "POLY_DEGREE=5"
      ],
      "execution_count": null,
      "outputs": []
    },
    {
      "cell_type": "code",
      "metadata": {
        "id": "5l-Iwruu_hr5"
      },
      "source": [
        "def simulate_gbm(s_0, mu, sigma, n_sims, T, N, random_seed=42, antithetic_var=False):\n",
        "   \n",
        "\n",
        "    np.random.seed(random_seed)\n",
        "\n",
        "    # time increment\n",
        "    dt = T/N\n",
        "\n",
        "    # Brownian\n",
        "    if antithetic_var:\n",
        "        dW_ant = np.random.normal(scale=np.sqrt(dt),\n",
        "                                  size=(int(n_sims/2), N + 1))\n",
        "        dW = np.concatenate((dW_ant, -dW_ant), axis=0)\n",
        "    else:\n",
        "        dW = np.random.normal(scale=np.sqrt(dt),\n",
        "                              size=(n_sims, N + 1))\n",
        "\n",
        "    # simulate the evolution of the process\n",
        "    S_t = s_0 * np.exp(np.cumsum((mu - 0.5 * sigma ** 2) * dt + sigma * dW,\n",
        "                                 axis=1))\n",
        "    S_t[:, 0] = s_0\n",
        "\n",
        "    return S_t"
      ],
      "execution_count": null,
      "outputs": []
    },
    {
      "cell_type": "code",
      "metadata": {
        "id": "mXMhbkx8_yLv"
      },
      "source": [
        "gbm_sims = simulate_gbm(s_0=S_0, mu=r, sigma=sigma, n_sims=n_sims, \n",
        "                        T=T, N=N)"
      ],
      "execution_count": null,
      "outputs": []
    },
    {
      "cell_type": "code",
      "metadata": {
        "id": "MfwMkS9eApdK"
      },
      "source": [
        "payoff_matrix=np.maximum(K-gbm_sims,np.zeros_like(gbm_sims))"
      ],
      "execution_count": null,
      "outputs": []
    },
    {
      "cell_type": "code",
      "metadata": {
        "id": "B4SGPEtHBIAD"
      },
      "source": [
        "value_matrix = np.zeros_like(payoff_matrix)\n",
        "value_matrix[:, -1] = payoff_matrix[:, -1]"
      ],
      "execution_count": null,
      "outputs": []
    },
    {
      "cell_type": "code",
      "metadata": {
        "id": "2ubD6EetBM5T"
      },
      "source": [
        "for t in range(N - 1, 0 , -1):\n",
        "    regression = np.polyfit(gbm_sims[:, t], \n",
        "                            value_matrix[:, t + 1] * discount_factor, \n",
        "                            POLY_DEGREE)\n",
        "    continuation_value = np.polyval(regression, gbm_sims[:, t])\n",
        "    value_matrix[:, t] = np.where(\n",
        "        payoff_matrix[:, t] > continuation_value,\n",
        "        payoff_matrix[:, t],\n",
        "        value_matrix[:, t + 1] * discount_factor\n",
        "    )"
      ],
      "execution_count": null,
      "outputs": []
    },
    {
      "cell_type": "code",
      "metadata": {
        "id": "BTS_1naoBRyd",
        "colab": {
          "base_uri": "https://localhost:8080/"
        },
        "outputId": "ec2c09da-59b3-4529-8a04-7a336910f4c8"
      },
      "source": [
        "option_premium = np.mean(value_matrix[:, 1] * discount_factor)\n",
        "print(f'The premium on the specified American {OPTION_TYPE} option is {option_premium:.3f}')"
      ],
      "execution_count": null,
      "outputs": [
        {
          "output_type": "stream",
          "name": "stdout",
          "text": [
            "The premium on the specified American put option is 1.522\n"
          ]
        }
      ]
    },
    {
      "cell_type": "code",
      "metadata": {
        "id": "SEwY-y0fDi0g"
      },
      "source": [
        "def black_scholes_analytical(S_0, K, T, r, sigma, type='call'):\n",
        "    '''\n",
        "    Function used for calculating the price of European options using the analytical form of the Black-Scholes model.\n",
        "    \n",
        "    Parameters\n",
        "    ------------\n",
        "    s_0 : float\n",
        "        Initial stock price\n",
        "    K : float\n",
        "        Strike price\n",
        "    T : float\n",
        "        Time to maturity in years\n",
        "    r : float\n",
        "        Annualized risk-free rate\n",
        "    sigma : float\n",
        "        Standard deviation of the stock returns\n",
        "    \n",
        "    Returns\n",
        "    -----------\n",
        "    option_premium : float\n",
        "        The premium on the option calculated using the Black-Scholes model\n",
        "    '''\n",
        "\n",
        "    d1 = (np.log(S_0 / K) + (r + 0.5 * sigma ** 2) * T) / (sigma * np.sqrt(T))\n",
        "    d2 = (np.log(S_0 / K) + (r - 0.5 * sigma ** 2) * T) / (sigma * np.sqrt(T))\n",
        "\n",
        "    if type == 'call':\n",
        "        option_premium = (S_0 * norm.cdf(d1, 0, 1) - K * np.exp(-r * T) * norm.cdf(d2, 0, 1))\n",
        "    elif type == 'put':\n",
        "        option_premium = (K * np.exp(-r * T) * norm.cdf(-d2, 0, 1) - S_0 * norm.cdf(-d1, 0, 1))\n",
        "    else:\n",
        "        raise ValueError('Wrong input for type!')\n",
        "\n",
        "    return option_premium\n"
      ],
      "execution_count": null,
      "outputs": []
    },
    {
      "cell_type": "code",
      "metadata": {
        "id": "72QZrs1zCkcd",
        "colab": {
          "base_uri": "https://localhost:8080/"
        },
        "outputId": "f635dbb5-f0dd-41c1-a6e0-6b811f347cdf"
      },
      "source": [
        "black_scholes_analytical(S_0=S_0, K=K, T=T, r=r, sigma=sigma, \n",
        "                         type='put')"
      ],
      "execution_count": null,
      "outputs": [
        {
          "output_type": "execute_result",
          "data": {
            "text/plain": [
              "3.84430779159684"
            ]
          },
          "metadata": {},
          "execution_count": 10
        }
      ]
    },
    {
      "cell_type": "code",
      "metadata": {
        "id": "-OReU4ujELXP"
      },
      "source": [
        "def lsmc_american_option(S_0, K, T, N, r, sigma, n_sims, option_type, poly_degree, random_seed=42):\n",
        "    '''\n",
        "    Function used for calculating the price of American options using Least Squares Monte Carlo \n",
        "    algorithm of Longstaff and Schwartz (2001).\n",
        "    \n",
        "    Parameters\n",
        "    ------------\n",
        "    S_0 : float\n",
        "        Initial stock price\n",
        "    K : float\n",
        "        Strike price\n",
        "    T : float\n",
        "        Time to maturity in years\n",
        "    N : int\n",
        "        Number of time increments in the forecast horizon\n",
        "    r : float\n",
        "        Annualized risk-free rate\n",
        "    sigma : float\n",
        "        Standard deviation of the stock returns\n",
        "    n_sims : int\n",
        "        Number of paths to simulate\n",
        "    option_type : str\n",
        "        Type of the option. Allowable: ['call', 'put']\n",
        "    poly_degree : int\n",
        "        Degree of the polynomial to fit in the LSMC algorithm\n",
        "    random_seed : int\n",
        "        Random seed for reproducibility\n",
        "        \n",
        "    Returns\n",
        "    -----------\n",
        "    option_premium : float\n",
        "        The premium on the option \n",
        "    '''\n",
        "\n",
        "    dt = T / N\n",
        "    discount_factor = np.exp(-r * dt)\n",
        "\n",
        "    gbm_simulations = simulate_gbm(s_0=S_0, mu=r, sigma=sigma, \n",
        "                                   n_sims=n_sims, T=T, N=N,\n",
        "                                   random_seed=random_seed)\n",
        "\n",
        "    if option_type == 'call':\n",
        "        payoff_matrix = np.maximum(\n",
        "            gbm_simulations - K, np.zeros_like(gbm_simulations))\n",
        "    elif option_type == 'put':\n",
        "        payoff_matrix = np.maximum(\n",
        "            K - gbm_simulations, np.zeros_like(gbm_simulations))\n",
        "\n",
        "    value_matrix = np.zeros_like(payoff_matrix)\n",
        "    value_matrix[:, -1] = payoff_matrix[:, -1]\n",
        "\n",
        "    for t in range(N - 1, 0, -1):\n",
        "        regression = np.polyfit(\n",
        "            gbm_simulations[:, t], value_matrix[:, t + 1] * discount_factor, poly_degree)\n",
        "        continuation_value = np.polyval(regression, gbm_simulations[:, t])\n",
        "        value_matrix[:, t] = np.where(payoff_matrix[:, t] > continuation_value,\n",
        "                                      payoff_matrix[:, t],\n",
        "                                      value_matrix[:, t + 1] * discount_factor)\n",
        "\n",
        "    option_premium = np.mean(value_matrix[:, 1] * discount_factor)\n",
        "    return option_premium"
      ],
      "execution_count": null,
      "outputs": []
    },
    {
      "cell_type": "code",
      "metadata": {
        "id": "38TITN-_DStC",
        "colab": {
          "base_uri": "https://localhost:8080/"
        },
        "outputId": "5d97c6bc-8801-4696-8f5c-2a1381008035"
      },
      "source": [
        "european_call_price = black_scholes_analytical(S_0=S_0, K=K, T=T, \n",
        "                                               r=r, sigma=sigma)\n",
        "american_call_price = lsmc_american_option(S_0=S_0, K=K, T=T, N=N, r=r, \n",
        "                                           sigma=sigma, n_sims=n_sims, \n",
        "                                           option_type='call', \n",
        "                                           poly_degree=POLY_DEGREE)\n",
        "print(f\"The price of the European call is {european_call_price:.3f}, and the American call's price (using {n_sims} simulations) is {american_call_price:.3f}\")"
      ],
      "execution_count": null,
      "outputs": [
        {
          "output_type": "stream",
          "name": "stdout",
          "text": [
            "The price of the European call is 2.174, and the American call's price (using 1000000 simulations) is 2.112\n"
          ]
        }
      ]
    },
    {
      "cell_type": "code",
      "metadata": {
        "id": "B2YKezbyD5RX",
        "colab": {
          "base_uri": "https://localhost:8080/"
        },
        "outputId": "33c20c0b-2b31-40df-a14a-ff0c7cda3540"
      },
      "source": [
        "!pip install QuantLib"
      ],
      "execution_count": null,
      "outputs": [
        {
          "output_type": "stream",
          "name": "stdout",
          "text": [
            "Requirement already satisfied: QuantLib in /usr/local/lib/python3.7/dist-packages (1.24)\n"
          ]
        }
      ]
    },
    {
      "cell_type": "code",
      "metadata": {
        "id": "K6Hc7lUVGwGt"
      },
      "source": [
        "import QuantLib as ql"
      ],
      "execution_count": null,
      "outputs": []
    },
    {
      "cell_type": "code",
      "metadata": {
        "id": "2KwcxF6WDF9u"
      },
      "source": [
        "S_0 = 36\n",
        "r = 0.06\n",
        "sigma = 0.2\n",
        "K = 40\n",
        "OPTION_TYPE = 'put'\n",
        "POLY_DEGREE = 5 \n",
        "R_SEED = 42\n",
        "N_SIMS = 10 ** 5 \n",
        "N = 50 "
      ],
      "execution_count": null,
      "outputs": []
    },
    {
      "cell_type": "code",
      "metadata": {
        "id": "R9kzfylzG2W7"
      },
      "source": [
        "calendar = ql.UnitedStates()\n",
        "day_counter = ql.ActualActual()"
      ],
      "execution_count": null,
      "outputs": []
    },
    {
      "cell_type": "code",
      "metadata": {
        "id": "bNvMfMaWHL-C"
      },
      "source": [
        "valuation_date = ql.Date(1, 1, 2018)\n",
        "expiry_date =  ql.Date(1, 1, 2019)\n",
        "ql.Settings.instance().evaluationDate = valuation_date"
      ],
      "execution_count": null,
      "outputs": []
    },
    {
      "cell_type": "code",
      "metadata": {
        "id": "KuRBkb1ZH5On"
      },
      "source": [
        "if OPTION_TYPE == 'call':\n",
        "    option_type_ql = ql.Option.Call\n",
        "elif OPTION_TYPE == 'put':\n",
        "    option_type_ql = ql.Option.Put\n",
        "        \n",
        "exercise = ql.AmericanExercise(valuation_date, expiry_date)\n",
        "payoff = ql.PlainVanillaPayoff(option_type_ql, K)"
      ],
      "execution_count": null,
      "outputs": []
    },
    {
      "cell_type": "code",
      "metadata": {
        "id": "bDxYzBu4KAWN"
      },
      "source": [
        "u = ql.SimpleQuote(S_0)\n",
        "r = ql.SimpleQuote(r)\n",
        "sigma = ql.SimpleQuote(sigma)"
      ],
      "execution_count": null,
      "outputs": []
    },
    {
      "cell_type": "code",
      "metadata": {
        "id": "G0iyC5XWAS-d"
      },
      "source": [
        "underlying = ql.QuoteHandle(u)\n",
        "volatility = ql.BlackConstantVol(0, ql.TARGET(), \n",
        "                                 ql.QuoteHandle(sigma), \n",
        "                                 day_counter)\n",
        "risk_free_rate = ql.FlatForward(0, ql.TARGET(), \n",
        "                                ql.QuoteHandle(r), \n",
        "                                day_counter)"
      ],
      "execution_count": null,
      "outputs": []
    },
    {
      "cell_type": "code",
      "metadata": {
        "id": "6F3L5SZ0BGhC"
      },
      "source": [
        "bs_process = ql.BlackScholesProcess(\n",
        "    underlying,\n",
        "    ql.YieldTermStructureHandle(risk_free_rate),\n",
        "    ql.BlackVolTermStructureHandle(volatility),\n",
        ")"
      ],
      "execution_count": null,
      "outputs": []
    },
    {
      "cell_type": "code",
      "metadata": {
        "id": "mG1NmtHWBcdI"
      },
      "source": [
        "engine=ql.MCAmericanEngine(bs_process,'PseudoRandom',timeSteps=N,polynomOrder=POLY_DEGREE,seedCalibration=42,requiredSamples=N_SIMS)"
      ],
      "execution_count": null,
      "outputs": []
    },
    {
      "cell_type": "code",
      "metadata": {
        "id": "Ctp2_PFTL8oY"
      },
      "source": [
        "option=ql.VanillaOption(payoff,exercise)\n",
        "option.setPricingEngine(engine)"
      ],
      "execution_count": null,
      "outputs": []
    },
    {
      "cell_type": "code",
      "metadata": {
        "colab": {
          "base_uri": "https://localhost:8080/"
        },
        "id": "0fAHvUsbMJzc",
        "outputId": "78317b5a-cb4c-4a00-bd47-2ac90ce909a9"
      },
      "source": [
        "option_premium_ql=option.NPV()\n",
        "option_premium"
      ],
      "execution_count": null,
      "outputs": [
        {
          "output_type": "execute_result",
          "data": {
            "text/plain": [
              "1.5220152001192016"
            ]
          },
          "metadata": {},
          "execution_count": 58
        }
      ]
    },
    {
      "cell_type": "code",
      "metadata": {
        "id": "yKZKjfvrN9HN"
      },
      "source": [
        ""
      ],
      "execution_count": null,
      "outputs": []
    }
  ]
}