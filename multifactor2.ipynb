{
  "nbformat": 4,
  "nbformat_minor": 0,
  "metadata": {
    "colab": {
      "name": "multifactor2.ipynb",
      "provenance": [],
      "collapsed_sections": []
    },
    "kernelspec": {
      "name": "python3",
      "display_name": "Python 3"
    },
    "language_info": {
      "name": "python"
    }
  },
  "cells": [
    {
      "cell_type": "code",
      "metadata": {
        "colab": {
          "base_uri": "https://localhost:8080/"
        },
        "id": "uPFp27npDm8n",
        "outputId": "5017af88-514d-48ad-8dc7-376b7d8eea05"
      },
      "source": [
        "!pip install yfinance"
      ],
      "execution_count": 1,
      "outputs": [
        {
          "output_type": "stream",
          "name": "stdout",
          "text": [
            "Collecting yfinance\n",
            "  Downloading yfinance-0.1.66-py2.py3-none-any.whl (25 kB)\n",
            "Collecting lxml>=4.5.1\n",
            "  Downloading lxml-4.6.4-cp37-cp37m-manylinux_2_17_x86_64.manylinux2014_x86_64.manylinux_2_24_x86_64.whl (6.3 MB)\n",
            "\u001b[K     |████████████████████████████████| 6.3 MB 7.4 MB/s \n",
            "\u001b[?25hRequirement already satisfied: multitasking>=0.0.7 in /usr/local/lib/python3.7/dist-packages (from yfinance) (0.0.9)\n",
            "Requirement already satisfied: requests>=2.20 in /usr/local/lib/python3.7/dist-packages (from yfinance) (2.23.0)\n",
            "Requirement already satisfied: pandas>=0.24 in /usr/local/lib/python3.7/dist-packages (from yfinance) (1.1.5)\n",
            "Requirement already satisfied: numpy>=1.15 in /usr/local/lib/python3.7/dist-packages (from yfinance) (1.19.5)\n",
            "Requirement already satisfied: python-dateutil>=2.7.3 in /usr/local/lib/python3.7/dist-packages (from pandas>=0.24->yfinance) (2.8.2)\n",
            "Requirement already satisfied: pytz>=2017.2 in /usr/local/lib/python3.7/dist-packages (from pandas>=0.24->yfinance) (2018.9)\n",
            "Requirement already satisfied: six>=1.5 in /usr/local/lib/python3.7/dist-packages (from python-dateutil>=2.7.3->pandas>=0.24->yfinance) (1.15.0)\n",
            "Requirement already satisfied: urllib3!=1.25.0,!=1.25.1,<1.26,>=1.21.1 in /usr/local/lib/python3.7/dist-packages (from requests>=2.20->yfinance) (1.24.3)\n",
            "Requirement already satisfied: chardet<4,>=3.0.2 in /usr/local/lib/python3.7/dist-packages (from requests>=2.20->yfinance) (3.0.4)\n",
            "Requirement already satisfied: certifi>=2017.4.17 in /usr/local/lib/python3.7/dist-packages (from requests>=2.20->yfinance) (2021.10.8)\n",
            "Requirement already satisfied: idna<3,>=2.5 in /usr/local/lib/python3.7/dist-packages (from requests>=2.20->yfinance) (2.10)\n",
            "Installing collected packages: lxml, yfinance\n",
            "  Attempting uninstall: lxml\n",
            "    Found existing installation: lxml 4.2.6\n",
            "    Uninstalling lxml-4.2.6:\n",
            "      Successfully uninstalled lxml-4.2.6\n",
            "Successfully installed lxml-4.6.4 yfinance-0.1.66\n"
          ]
        }
      ]
    },
    {
      "cell_type": "code",
      "metadata": {
        "id": "79kLypXLER0s"
      },
      "source": [
        "import pandas as pd\n",
        "import yfinance as yf\n",
        "import statsmodels.formula.api as smf\n",
        "import io\n",
        "import numpy as np"
      ],
      "execution_count": 56,
      "outputs": []
    },
    {
      "cell_type": "code",
      "metadata": {
        "colab": {
          "base_uri": "https://localhost:8080/"
        },
        "id": "p2FNCYutEB49",
        "outputId": "d1f80ec8-caeb-4f5d-d3d2-ce64d30e494a"
      },
      "source": [
        "# download the zip file from Prof. French's website\n",
        "!wget http://mba.tuck.dartmouth.edu/pages/faculty/ken.french/ftp/F-F_Research_Data_Factors_CSV.zip\n",
        "\n",
        "# unpack the zip\n",
        "!unzip -a F-F_Research_Data_Factors_CSV.zip\n",
        "\n",
        "# remove the zip\n",
        "!rm F-F_Research_Data_Factors_CSV.zip"
      ],
      "execution_count": 3,
      "outputs": [
        {
          "output_type": "stream",
          "name": "stdout",
          "text": [
            "--2021-11-17 06:58:50--  http://mba.tuck.dartmouth.edu/pages/faculty/ken.french/ftp/F-F_Research_Data_Factors_CSV.zip\n",
            "Resolving mba.tuck.dartmouth.edu (mba.tuck.dartmouth.edu)... 129.170.172.144\n",
            "Connecting to mba.tuck.dartmouth.edu (mba.tuck.dartmouth.edu)|129.170.172.144|:80... connected.\n",
            "HTTP request sent, awaiting response... 200 OK\n",
            "Length: 12509 (12K) [application/x-zip-compressed]\n",
            "Saving to: ‘F-F_Research_Data_Factors_CSV.zip’\n",
            "\n",
            "F-F_Research_Data_F 100%[===================>]  12.22K  --.-KB/s    in 0s      \n",
            "\n",
            "2021-11-17 06:58:50 (210 MB/s) - ‘F-F_Research_Data_Factors_CSV.zip’ saved [12509/12509]\n",
            "\n",
            "Archive:  F-F_Research_Data_Factors_CSV.zip\n",
            "  inflating: F-F_Research_Data_Factors.CSV  [binary]\n"
          ]
        }
      ]
    },
    {
      "cell_type": "code",
      "metadata": {
        "id": "raZXbos-EJx6"
      },
      "source": [
        "RISKY_ASSET = 'FB'\n",
        "START_DATE = '2013-12-31'\n",
        "END_DATE = '2018-12-31'"
      ],
      "execution_count": 4,
      "outputs": []
    },
    {
      "cell_type": "code",
      "metadata": {
        "colab": {
          "resources": {
            "http://localhost:8080/nbextensions/google.colab/files.js": {
              "data": "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",
              "ok": true,
              "headers": [
                [
                  "content-type",
                  "application/javascript"
                ]
              ],
              "status": 200,
              "status_text": ""
            }
          },
          "base_uri": "https://localhost:8080/",
          "height": 77
        },
        "id": "Gez17CbXFPYf",
        "outputId": "b95156b6-bea2-40e3-936f-27a0e1562fd6"
      },
      "source": [
        "from google.colab import files\n",
        "myfile = files.upload()"
      ],
      "execution_count": 5,
      "outputs": [
        {
          "output_type": "display_data",
          "data": {
            "text/html": [
              "\n",
              "     <input type=\"file\" id=\"files-7db87881-ba4e-4465-9af1-886e49482628\" name=\"files[]\" multiple disabled\n",
              "        style=\"border:none\" />\n",
              "     <output id=\"result-7db87881-ba4e-4465-9af1-886e49482628\">\n",
              "      Upload widget is only available when the cell has been executed in the\n",
              "      current browser session. Please rerun this cell to enable.\n",
              "      </output>\n",
              "      <script src=\"/nbextensions/google.colab/files.js\"></script> "
            ],
            "text/plain": [
              "<IPython.core.display.HTML object>"
            ]
          },
          "metadata": {}
        },
        {
          "output_type": "stream",
          "name": "stdout",
          "text": [
            "Saving F-F_Research_Data_Factors.csv to F-F_Research_Data_Factors.csv\n"
          ]
        }
      ]
    },
    {
      "cell_type": "code",
      "metadata": {
        "colab": {
          "base_uri": "https://localhost:8080/",
          "height": 206
        },
        "id": "0AaLCGWqFkaR",
        "outputId": "0108b229-102b-4207-9e2b-4fbeb7076de3"
      },
      "source": [
        "factor_df = pd.read_csv(io.BytesIO(myfile['F-F_Research_Data_Factors.csv']))\n",
        "factor_df.head()"
      ],
      "execution_count": 6,
      "outputs": [
        {
          "output_type": "execute_result",
          "data": {
            "text/html": [
              "<div>\n",
              "<style scoped>\n",
              "    .dataframe tbody tr th:only-of-type {\n",
              "        vertical-align: middle;\n",
              "    }\n",
              "\n",
              "    .dataframe tbody tr th {\n",
              "        vertical-align: top;\n",
              "    }\n",
              "\n",
              "    .dataframe thead th {\n",
              "        text-align: right;\n",
              "    }\n",
              "</style>\n",
              "<table border=\"1\" class=\"dataframe\">\n",
              "  <thead>\n",
              "    <tr style=\"text-align: right;\">\n",
              "      <th></th>\n",
              "      <th>Unnamed: 0</th>\n",
              "      <th>Mkt-RF</th>\n",
              "      <th>SMB</th>\n",
              "      <th>HML</th>\n",
              "      <th>RF</th>\n",
              "    </tr>\n",
              "  </thead>\n",
              "  <tbody>\n",
              "    <tr>\n",
              "      <th>0</th>\n",
              "      <td>192607</td>\n",
              "      <td>2.96</td>\n",
              "      <td>-2.30</td>\n",
              "      <td>-2.87</td>\n",
              "      <td>0.22</td>\n",
              "    </tr>\n",
              "    <tr>\n",
              "      <th>1</th>\n",
              "      <td>192608</td>\n",
              "      <td>2.64</td>\n",
              "      <td>-1.40</td>\n",
              "      <td>4.19</td>\n",
              "      <td>0.25</td>\n",
              "    </tr>\n",
              "    <tr>\n",
              "      <th>2</th>\n",
              "      <td>192609</td>\n",
              "      <td>0.36</td>\n",
              "      <td>-1.32</td>\n",
              "      <td>0.01</td>\n",
              "      <td>0.23</td>\n",
              "    </tr>\n",
              "    <tr>\n",
              "      <th>3</th>\n",
              "      <td>192610</td>\n",
              "      <td>-3.24</td>\n",
              "      <td>0.04</td>\n",
              "      <td>0.51</td>\n",
              "      <td>0.32</td>\n",
              "    </tr>\n",
              "    <tr>\n",
              "      <th>4</th>\n",
              "      <td>192611</td>\n",
              "      <td>2.53</td>\n",
              "      <td>-0.20</td>\n",
              "      <td>-0.35</td>\n",
              "      <td>0.31</td>\n",
              "    </tr>\n",
              "  </tbody>\n",
              "</table>\n",
              "</div>"
            ],
            "text/plain": [
              "  Unnamed: 0    Mkt-RF       SMB       HML        RF\n",
              "0     192607      2.96     -2.30     -2.87      0.22\n",
              "1     192608      2.64     -1.40      4.19      0.25\n",
              "2     192609      0.36     -1.32      0.01      0.23\n",
              "3     192610     -3.24      0.04      0.51      0.32\n",
              "4     192611      2.53     -0.20     -0.35      0.31"
            ]
          },
          "metadata": {},
          "execution_count": 6
        }
      ]
    },
    {
      "cell_type": "code",
      "metadata": {
        "colab": {
          "base_uri": "https://localhost:8080/",
          "height": 206
        },
        "id": "7e6SHe-UENeU",
        "outputId": "746e4c55-b4c8-4b56-fa13-5e726c7fa3d0"
      },
      "source": [
        "\n",
        "factor_df = pd.read_csv('F-F_Research_Data_Factors.csv', skiprows=3)\n",
        "STR_TO_MATCH = ' Annual Factors: January-December '\n",
        "indices = factor_df.iloc[:, 0] == STR_TO_MATCH\n",
        "start_of_annual = factor_df[indices].index[0]\n",
        "\n",
        "factor_df = factor_df[factor_df.index < start_of_annual]\n",
        "factor_df.head()"
      ],
      "execution_count": 7,
      "outputs": [
        {
          "output_type": "execute_result",
          "data": {
            "text/html": [
              "<div>\n",
              "<style scoped>\n",
              "    .dataframe tbody tr th:only-of-type {\n",
              "        vertical-align: middle;\n",
              "    }\n",
              "\n",
              "    .dataframe tbody tr th {\n",
              "        vertical-align: top;\n",
              "    }\n",
              "\n",
              "    .dataframe thead th {\n",
              "        text-align: right;\n",
              "    }\n",
              "</style>\n",
              "<table border=\"1\" class=\"dataframe\">\n",
              "  <thead>\n",
              "    <tr style=\"text-align: right;\">\n",
              "      <th></th>\n",
              "      <th>192609</th>\n",
              "      <th>0.36</th>\n",
              "      <th>-1.32</th>\n",
              "      <th>0.01</th>\n",
              "      <th>0.23</th>\n",
              "    </tr>\n",
              "  </thead>\n",
              "  <tbody>\n",
              "    <tr>\n",
              "      <th>0</th>\n",
              "      <td>192610</td>\n",
              "      <td>-3.24</td>\n",
              "      <td>0.04</td>\n",
              "      <td>0.51</td>\n",
              "      <td>0.32</td>\n",
              "    </tr>\n",
              "    <tr>\n",
              "      <th>1</th>\n",
              "      <td>192611</td>\n",
              "      <td>2.53</td>\n",
              "      <td>-0.20</td>\n",
              "      <td>-0.35</td>\n",
              "      <td>0.31</td>\n",
              "    </tr>\n",
              "    <tr>\n",
              "      <th>2</th>\n",
              "      <td>192612</td>\n",
              "      <td>2.62</td>\n",
              "      <td>-0.04</td>\n",
              "      <td>-0.02</td>\n",
              "      <td>0.28</td>\n",
              "    </tr>\n",
              "    <tr>\n",
              "      <th>3</th>\n",
              "      <td>192701</td>\n",
              "      <td>-0.06</td>\n",
              "      <td>-0.56</td>\n",
              "      <td>4.83</td>\n",
              "      <td>0.25</td>\n",
              "    </tr>\n",
              "    <tr>\n",
              "      <th>4</th>\n",
              "      <td>192702</td>\n",
              "      <td>4.18</td>\n",
              "      <td>-0.10</td>\n",
              "      <td>3.17</td>\n",
              "      <td>0.26</td>\n",
              "    </tr>\n",
              "  </tbody>\n",
              "</table>\n",
              "</div>"
            ],
            "text/plain": [
              "   192609      0.36     -1.32      0.01      0.23\n",
              "0  192610     -3.24      0.04      0.51      0.32\n",
              "1  192611      2.53     -0.20     -0.35      0.31\n",
              "2  192612      2.62     -0.04     -0.02      0.28\n",
              "3  192701     -0.06     -0.56      4.83      0.25\n",
              "4  192702      4.18     -0.10      3.17      0.26"
            ]
          },
          "metadata": {},
          "execution_count": 7
        }
      ]
    },
    {
      "cell_type": "code",
      "metadata": {
        "id": "06EiDWxWEQOL"
      },
      "source": [
        "factor_df.columns=['date','mkt','smb','hml','rf']\n",
        "factor_df['date']=pd.to_datetime(factor_df['date'],\n",
        "                                 format='%Y%m')\\\n",
        "                                 .dt.strftime(\"%Y-%m\")\n",
        "factor_df=factor_df.set_index('date')\n",
        "factor_df=factor_df.loc[START_DATE:END_DATE]"
      ],
      "execution_count": 8,
      "outputs": []
    },
    {
      "cell_type": "code",
      "metadata": {
        "colab": {
          "base_uri": "https://localhost:8080/",
          "height": 238
        },
        "id": "ZR51nJRnIFb1",
        "outputId": "073f549d-7919-4bf6-a7ec-979804362a1f"
      },
      "source": [
        "factor_df=factor_df.apply(pd.to_numeric,\n",
        "                          errors='coerce')\\\n",
        "                          .div(100)\n",
        "\n",
        "\n",
        "factor_df.head()"
      ],
      "execution_count": 9,
      "outputs": [
        {
          "output_type": "execute_result",
          "data": {
            "text/html": [
              "<div>\n",
              "<style scoped>\n",
              "    .dataframe tbody tr th:only-of-type {\n",
              "        vertical-align: middle;\n",
              "    }\n",
              "\n",
              "    .dataframe tbody tr th {\n",
              "        vertical-align: top;\n",
              "    }\n",
              "\n",
              "    .dataframe thead th {\n",
              "        text-align: right;\n",
              "    }\n",
              "</style>\n",
              "<table border=\"1\" class=\"dataframe\">\n",
              "  <thead>\n",
              "    <tr style=\"text-align: right;\">\n",
              "      <th></th>\n",
              "      <th>mkt</th>\n",
              "      <th>smb</th>\n",
              "      <th>hml</th>\n",
              "      <th>rf</th>\n",
              "    </tr>\n",
              "    <tr>\n",
              "      <th>date</th>\n",
              "      <th></th>\n",
              "      <th></th>\n",
              "      <th></th>\n",
              "      <th></th>\n",
              "    </tr>\n",
              "  </thead>\n",
              "  <tbody>\n",
              "    <tr>\n",
              "      <th>2014-01</th>\n",
              "      <td>-0.0332</td>\n",
              "      <td>0.0085</td>\n",
              "      <td>-0.0209</td>\n",
              "      <td>0.0</td>\n",
              "    </tr>\n",
              "    <tr>\n",
              "      <th>2014-02</th>\n",
              "      <td>0.0465</td>\n",
              "      <td>0.0034</td>\n",
              "      <td>-0.0040</td>\n",
              "      <td>0.0</td>\n",
              "    </tr>\n",
              "    <tr>\n",
              "      <th>2014-03</th>\n",
              "      <td>0.0043</td>\n",
              "      <td>-0.0189</td>\n",
              "      <td>0.0509</td>\n",
              "      <td>0.0</td>\n",
              "    </tr>\n",
              "    <tr>\n",
              "      <th>2014-04</th>\n",
              "      <td>-0.0019</td>\n",
              "      <td>-0.0424</td>\n",
              "      <td>0.0114</td>\n",
              "      <td>0.0</td>\n",
              "    </tr>\n",
              "    <tr>\n",
              "      <th>2014-05</th>\n",
              "      <td>0.0206</td>\n",
              "      <td>-0.0186</td>\n",
              "      <td>-0.0027</td>\n",
              "      <td>0.0</td>\n",
              "    </tr>\n",
              "  </tbody>\n",
              "</table>\n",
              "</div>"
            ],
            "text/plain": [
              "            mkt     smb     hml   rf\n",
              "date                                \n",
              "2014-01 -0.0332  0.0085 -0.0209  0.0\n",
              "2014-02  0.0465  0.0034 -0.0040  0.0\n",
              "2014-03  0.0043 -0.0189  0.0509  0.0\n",
              "2014-04 -0.0019 -0.0424  0.0114  0.0\n",
              "2014-05  0.0206 -0.0186 -0.0027  0.0"
            ]
          },
          "metadata": {},
          "execution_count": 9
        }
      ]
    },
    {
      "cell_type": "code",
      "metadata": {
        "colab": {
          "base_uri": "https://localhost:8080/"
        },
        "id": "xnSpGMg2IPYN",
        "outputId": "e465a70e-79c8-4267-b9d1-613a56db60da"
      },
      "source": [
        "asset_df=yf.download(RISKY_ASSET,start=START_DATE,end=END_DATE,adjusted=True)\n",
        "y=asset_df['Adj Close'].resample('M')\\\n",
        "                        .last()\\\n",
        "                        .pct_change()\\\n",
        "                        .dropna()\n",
        "y.index=y.index.strftime('%Y-%m')\n",
        "y.name='rtn'"
      ],
      "execution_count": 10,
      "outputs": [
        {
          "output_type": "stream",
          "name": "stdout",
          "text": [
            "\r[*********************100%***********************]  1 of 1 completed\n"
          ]
        }
      ]
    },
    {
      "cell_type": "code",
      "metadata": {
        "id": "EfXc4x06JMNj"
      },
      "source": [
        "ff_data=factor_df.join(y)\n",
        "ff_data['excess_rtn']=ff_data.rtn-ff_data.rf"
      ],
      "execution_count": 11,
      "outputs": []
    },
    {
      "cell_type": "code",
      "metadata": {
        "colab": {
          "base_uri": "https://localhost:8080/"
        },
        "id": "VNNOGlQRJZZY",
        "outputId": "8c73e1e4-3bc5-442b-e072-19d8e183b098"
      },
      "source": [
        "ff_model=smf.ols(formula='excess_rtn~mkt+smb+hml',data=ff_data).fit()\n",
        "print(ff_model.summary())"
      ],
      "execution_count": 12,
      "outputs": [
        {
          "output_type": "stream",
          "name": "stdout",
          "text": [
            "                            OLS Regression Results                            \n",
            "==============================================================================\n",
            "Dep. Variable:             excess_rtn   R-squared:                       0.217\n",
            "Model:                            OLS   Adj. R-squared:                  0.175\n",
            "Method:                 Least Squares   F-statistic:                     5.175\n",
            "Date:                Wed, 17 Nov 2021   Prob (F-statistic):            0.00316\n",
            "Time:                        06:59:00   Log-Likelihood:                 88.392\n",
            "No. Observations:                  60   AIC:                            -168.8\n",
            "Df Residuals:                      56   BIC:                            -160.4\n",
            "Df Model:                           3                                         \n",
            "Covariance Type:            nonrobust                                         \n",
            "==============================================================================\n",
            "                 coef    std err          t      P>|t|      [0.025      0.975]\n",
            "------------------------------------------------------------------------------\n",
            "Intercept      0.0105      0.008      1.373      0.175      -0.005       0.026\n",
            "mkt            0.5138      0.237      2.166      0.035       0.039       0.989\n",
            "smb           -0.1618      0.301     -0.538      0.593      -0.765       0.441\n",
            "hml           -0.9604      0.312     -3.074      0.003      -1.586      -0.335\n",
            "==============================================================================\n",
            "Omnibus:                        0.008   Durbin-Watson:                   1.780\n",
            "Prob(Omnibus):                  0.996   Jarque-Bera (JB):                0.150\n",
            "Skew:                          -0.006   Prob(JB):                        0.928\n",
            "Kurtosis:                       2.755   Cond. No.                         44.5\n",
            "==============================================================================\n",
            "\n",
            "Warnings:\n",
            "[1] Standard Errors assume that the covariance matrix of the errors is correctly specified.\n"
          ]
        }
      ]
    },
    {
      "cell_type": "code",
      "metadata": {
        "id": "0OJUOMZBJp-s"
      },
      "source": [
        "from pandas_datareader.famafrench import get_available_datasets\n",
        "import pandas_datareader.data as web"
      ],
      "execution_count": 13,
      "outputs": []
    },
    {
      "cell_type": "code",
      "metadata": {
        "colab": {
          "base_uri": "https://localhost:8080/"
        },
        "id": "ZKNJGuAVtvcH",
        "outputId": "958fa6ad-8189-4cf1-bb77-e21142058e87"
      },
      "source": [
        "get_available_datasets()[:5]"
      ],
      "execution_count": 14,
      "outputs": [
        {
          "output_type": "execute_result",
          "data": {
            "text/plain": [
              "['F-F_Research_Data_Factors',\n",
              " 'F-F_Research_Data_Factors_weekly',\n",
              " 'F-F_Research_Data_Factors_daily',\n",
              " 'F-F_Research_Data_5_Factors_2x3',\n",
              " 'F-F_Research_Data_5_Factors_2x3_daily']"
            ]
          },
          "metadata": {},
          "execution_count": 14
        }
      ]
    },
    {
      "cell_type": "code",
      "metadata": {
        "colab": {
          "base_uri": "https://localhost:8080/"
        },
        "id": "sNBO-bzft1Me",
        "outputId": "d8171931-6302-4916-e240-d85aadd18857"
      },
      "source": [
        "ff_dict=web.DataReader('F-F_Research_Data_Factors','famafrench',start='2014-01-01')\n",
        "ff_dict"
      ],
      "execution_count": 16,
      "outputs": [
        {
          "output_type": "execute_result",
          "data": {
            "text/plain": [
              "{0:          Mkt-RF   SMB   HML   RF\n",
              " Date                            \n",
              " 2014-01   -3.32  0.92 -2.02  0.0\n",
              " 2014-02    4.65  0.37 -0.31  0.0\n",
              " 2014-03    0.43 -1.87  4.92  0.0\n",
              " 2014-04   -0.19 -4.20  1.14  0.0\n",
              " 2014-05    2.06 -1.89 -0.13  0.0\n",
              " ...         ...   ...   ...  ...\n",
              " 2021-05    0.29 -0.28  7.04  0.0\n",
              " 2021-06    2.75  1.80 -7.76  0.0\n",
              " 2021-07    1.27 -3.96 -1.75  0.0\n",
              " 2021-08    2.90 -0.48 -0.13  0.0\n",
              " 2021-09   -4.37  0.80  5.09  0.0\n",
              " \n",
              " [93 rows x 4 columns], 1:       Mkt-RF    SMB    HML    RF\n",
              " Date                            \n",
              " 2014   11.71  -7.81  -1.46  0.02\n",
              " 2015    0.08  -3.92  -9.54  0.02\n",
              " 2016   13.30   6.64  22.62  0.20\n",
              " 2017   21.51  -4.95 -13.48  0.80\n",
              " 2018   -6.93  -3.34  -9.80  1.81\n",
              " 2019   28.28  -6.06 -10.48  2.14\n",
              " 2020   23.67  12.77 -46.31  0.44, 'DESCR': 'F-F Research Data Factors\\n-------------------------\\n\\nThis file was created by CMPT_ME_BEME_RETS using the 202109 CRSP database. The 1-month TBill return is from Ibbotson and Associates, Inc. Copyright 2021 Kenneth R. French\\n\\n  0 : (93 rows x 4 cols)\\n  1 : Annual Factors: January-December (7 rows x 4 cols)'}"
            ]
          },
          "metadata": {},
          "execution_count": 16
        }
      ]
    },
    {
      "cell_type": "code",
      "metadata": {
        "colab": {
          "base_uri": "https://localhost:8080/"
        },
        "id": "Le5J9Z24uFay",
        "outputId": "b1ac126e-80a3-4c00-f7ce-44f8d0c93c73"
      },
      "source": [
        "ff_dict.keys()"
      ],
      "execution_count": 17,
      "outputs": [
        {
          "output_type": "execute_result",
          "data": {
            "text/plain": [
              "dict_keys([0, 1, 'DESCR'])"
            ]
          },
          "metadata": {},
          "execution_count": 17
        }
      ]
    },
    {
      "cell_type": "code",
      "metadata": {
        "colab": {
          "base_uri": "https://localhost:8080/"
        },
        "id": "Z3WHSY8YuPSU",
        "outputId": "ceed0407-9ba8-4528-ea1e-421ed11ae5e2"
      },
      "source": [
        "print(ff_dict['DESCR'])"
      ],
      "execution_count": 18,
      "outputs": [
        {
          "output_type": "stream",
          "name": "stdout",
          "text": [
            "F-F Research Data Factors\n",
            "-------------------------\n",
            "\n",
            "This file was created by CMPT_ME_BEME_RETS using the 202109 CRSP database. The 1-month TBill return is from Ibbotson and Associates, Inc. Copyright 2021 Kenneth R. French\n",
            "\n",
            "  0 : (93 rows x 4 cols)\n",
            "  1 : Annual Factors: January-December (7 rows x 4 cols)\n"
          ]
        }
      ]
    },
    {
      "cell_type": "code",
      "metadata": {
        "colab": {
          "base_uri": "https://localhost:8080/",
          "height": 238
        },
        "id": "NUtyhNRTuVkE",
        "outputId": "23da09ca-3fba-4cae-c856-bf476043fcfa"
      },
      "source": [
        "ff_dict[0].head()"
      ],
      "execution_count": 19,
      "outputs": [
        {
          "output_type": "execute_result",
          "data": {
            "text/html": [
              "<div>\n",
              "<style scoped>\n",
              "    .dataframe tbody tr th:only-of-type {\n",
              "        vertical-align: middle;\n",
              "    }\n",
              "\n",
              "    .dataframe tbody tr th {\n",
              "        vertical-align: top;\n",
              "    }\n",
              "\n",
              "    .dataframe thead th {\n",
              "        text-align: right;\n",
              "    }\n",
              "</style>\n",
              "<table border=\"1\" class=\"dataframe\">\n",
              "  <thead>\n",
              "    <tr style=\"text-align: right;\">\n",
              "      <th></th>\n",
              "      <th>Mkt-RF</th>\n",
              "      <th>SMB</th>\n",
              "      <th>HML</th>\n",
              "      <th>RF</th>\n",
              "    </tr>\n",
              "    <tr>\n",
              "      <th>Date</th>\n",
              "      <th></th>\n",
              "      <th></th>\n",
              "      <th></th>\n",
              "      <th></th>\n",
              "    </tr>\n",
              "  </thead>\n",
              "  <tbody>\n",
              "    <tr>\n",
              "      <th>2014-01</th>\n",
              "      <td>-3.32</td>\n",
              "      <td>0.92</td>\n",
              "      <td>-2.02</td>\n",
              "      <td>0.0</td>\n",
              "    </tr>\n",
              "    <tr>\n",
              "      <th>2014-02</th>\n",
              "      <td>4.65</td>\n",
              "      <td>0.37</td>\n",
              "      <td>-0.31</td>\n",
              "      <td>0.0</td>\n",
              "    </tr>\n",
              "    <tr>\n",
              "      <th>2014-03</th>\n",
              "      <td>0.43</td>\n",
              "      <td>-1.87</td>\n",
              "      <td>4.92</td>\n",
              "      <td>0.0</td>\n",
              "    </tr>\n",
              "    <tr>\n",
              "      <th>2014-04</th>\n",
              "      <td>-0.19</td>\n",
              "      <td>-4.20</td>\n",
              "      <td>1.14</td>\n",
              "      <td>0.0</td>\n",
              "    </tr>\n",
              "    <tr>\n",
              "      <th>2014-05</th>\n",
              "      <td>2.06</td>\n",
              "      <td>-1.89</td>\n",
              "      <td>-0.13</td>\n",
              "      <td>0.0</td>\n",
              "    </tr>\n",
              "  </tbody>\n",
              "</table>\n",
              "</div>"
            ],
            "text/plain": [
              "         Mkt-RF   SMB   HML   RF\n",
              "Date                            \n",
              "2014-01   -3.32  0.92 -2.02  0.0\n",
              "2014-02    4.65  0.37 -0.31  0.0\n",
              "2014-03    0.43 -1.87  4.92  0.0\n",
              "2014-04   -0.19 -4.20  1.14  0.0\n",
              "2014-05    2.06 -1.89 -0.13  0.0"
            ]
          },
          "metadata": {},
          "execution_count": 19
        }
      ]
    },
    {
      "cell_type": "code",
      "metadata": {
        "colab": {
          "base_uri": "https://localhost:8080/",
          "height": 238
        },
        "id": "s-Db1CAgueqh",
        "outputId": "ee50b430-f53f-4cea-fb32-da0e9861874b"
      },
      "source": [
        "ff_dict[1].head()"
      ],
      "execution_count": 20,
      "outputs": [
        {
          "output_type": "execute_result",
          "data": {
            "text/html": [
              "<div>\n",
              "<style scoped>\n",
              "    .dataframe tbody tr th:only-of-type {\n",
              "        vertical-align: middle;\n",
              "    }\n",
              "\n",
              "    .dataframe tbody tr th {\n",
              "        vertical-align: top;\n",
              "    }\n",
              "\n",
              "    .dataframe thead th {\n",
              "        text-align: right;\n",
              "    }\n",
              "</style>\n",
              "<table border=\"1\" class=\"dataframe\">\n",
              "  <thead>\n",
              "    <tr style=\"text-align: right;\">\n",
              "      <th></th>\n",
              "      <th>Mkt-RF</th>\n",
              "      <th>SMB</th>\n",
              "      <th>HML</th>\n",
              "      <th>RF</th>\n",
              "    </tr>\n",
              "    <tr>\n",
              "      <th>Date</th>\n",
              "      <th></th>\n",
              "      <th></th>\n",
              "      <th></th>\n",
              "      <th></th>\n",
              "    </tr>\n",
              "  </thead>\n",
              "  <tbody>\n",
              "    <tr>\n",
              "      <th>2014</th>\n",
              "      <td>11.71</td>\n",
              "      <td>-7.81</td>\n",
              "      <td>-1.46</td>\n",
              "      <td>0.02</td>\n",
              "    </tr>\n",
              "    <tr>\n",
              "      <th>2015</th>\n",
              "      <td>0.08</td>\n",
              "      <td>-3.92</td>\n",
              "      <td>-9.54</td>\n",
              "      <td>0.02</td>\n",
              "    </tr>\n",
              "    <tr>\n",
              "      <th>2016</th>\n",
              "      <td>13.30</td>\n",
              "      <td>6.64</td>\n",
              "      <td>22.62</td>\n",
              "      <td>0.20</td>\n",
              "    </tr>\n",
              "    <tr>\n",
              "      <th>2017</th>\n",
              "      <td>21.51</td>\n",
              "      <td>-4.95</td>\n",
              "      <td>-13.48</td>\n",
              "      <td>0.80</td>\n",
              "    </tr>\n",
              "    <tr>\n",
              "      <th>2018</th>\n",
              "      <td>-6.93</td>\n",
              "      <td>-3.34</td>\n",
              "      <td>-9.80</td>\n",
              "      <td>1.81</td>\n",
              "    </tr>\n",
              "  </tbody>\n",
              "</table>\n",
              "</div>"
            ],
            "text/plain": [
              "      Mkt-RF   SMB    HML    RF\n",
              "Date                           \n",
              "2014   11.71 -7.81  -1.46  0.02\n",
              "2015    0.08 -3.92  -9.54  0.02\n",
              "2016   13.30  6.64  22.62  0.20\n",
              "2017   21.51 -4.95 -13.48  0.80\n",
              "2018   -6.93 -3.34  -9.80  1.81"
            ]
          },
          "metadata": {},
          "execution_count": 20
        }
      ]
    },
    {
      "cell_type": "code",
      "metadata": {
        "colab": {
          "base_uri": "https://localhost:8080/"
        },
        "id": "Eb7j0gfTukoe",
        "outputId": "43bbe5b4-4c31-492d-c674-0aa8968567ab"
      },
      "source": [
        "asset_df1=yf.download('MSFT',start=START_DATE,end=END_DATE,adjusted=True)\n",
        "y1=asset_df1['Adj Close'].resample('M')\\\n",
        "                          .last()\\\n",
        "                          .pct_change()\\\n",
        "                          .dropna()\n",
        "\n",
        "y1.index=y1.index.strftime('%Y-%m')\n",
        "y1.name='rtn'\n",
        "print(y1)"
      ],
      "execution_count": 24,
      "outputs": [
        {
          "output_type": "stream",
          "name": "stdout",
          "text": [
            "\r[*********************100%***********************]  1 of 1 completed\n",
            "Date\n",
            "2014-01    0.011494\n",
            "2014-02    0.020012\n",
            "2014-03    0.069956\n",
            "2014-04   -0.014394\n",
            "2014-05    0.020515\n",
            "2014-06    0.018564\n",
            "2014-07    0.035012\n",
            "2014-08    0.059169\n",
            "2014-09    0.020471\n",
            "2014-10    0.012727\n",
            "2014-11    0.024740\n",
            "2014-12   -0.028446\n",
            "2015-01   -0.130247\n",
            "2015-02    0.093120\n",
            "2015-03   -0.072748\n",
            "2015-04    0.196261\n",
            "2015-05   -0.030334\n",
            "2015-06   -0.057832\n",
            "2015-07    0.057758\n",
            "2015-08   -0.061949\n",
            "2015-09    0.017004\n",
            "2015-10    0.189336\n",
            "2015-11    0.039444\n",
            "2015-12    0.020791\n",
            "2016-01   -0.007030\n",
            "2016-02   -0.069789\n",
            "2016-03    0.085495\n",
            "2016-04   -0.097049\n",
            "2016-05    0.070197\n",
            "2016-06   -0.034528\n",
            "2016-07    0.107680\n",
            "2016-08    0.020080\n",
            "2016-09    0.002437\n",
            "2016-10    0.040278\n",
            "2016-11    0.012468\n",
            "2016-12    0.031198\n",
            "2017-01    0.040393\n",
            "2017-02   -0.004364\n",
            "2017-03    0.029384\n",
            "2017-04    0.039478\n",
            "2017-05    0.026006\n",
            "2017-06   -0.013030\n",
            "2017-07    0.054693\n",
            "2017-08    0.033953\n",
            "2017-09   -0.003745\n",
            "2017-10    0.116660\n",
            "2017-11    0.016984\n",
            "2017-12    0.016277\n",
            "2018-01    0.110708\n",
            "2018-02   -0.008415\n",
            "2018-03   -0.026661\n",
            "2018-04    0.024652\n",
            "2018-05    0.061467\n",
            "2018-06   -0.002327\n",
            "2018-07    0.075753\n",
            "2018-08    0.062993\n",
            "2018-09    0.018161\n",
            "2018-10   -0.066101\n",
            "2018-11    0.042684\n",
            "2018-12   -0.094688\n",
            "Name: rtn, dtype: float64\n"
          ]
        }
      ]
    },
    {
      "cell_type": "code",
      "metadata": {
        "id": "fsolzb41vrfE"
      },
      "source": [
        "ff_data1=ff_dict[0].join(y)\n",
        "ff_data1['excess_rtn']=ff_data1.rtn-ff_data.rf"
      ],
      "execution_count": 25,
      "outputs": []
    },
    {
      "cell_type": "markdown",
      "metadata": {
        "id": "b_30wpYg_-0B"
      },
      "source": [
        "# **portfolio 3factor model**"
      ]
    },
    {
      "cell_type": "code",
      "metadata": {
        "id": "YhOn-Aea9gsA"
      },
      "source": [
        "Assets=['AMZN','GOOG','AAPL','MSFT','TSLA']\n",
        "Weights=[0.2,0.2,0.2,0.2,0.2]\n",
        "start_date='2009-12-31'\n",
        "end_date='2018-12-31'"
      ],
      "execution_count": 51,
      "outputs": []
    },
    {
      "cell_type": "code",
      "metadata": {
        "id": "JkPbVj52AbO0"
      },
      "source": [
        "df_three_factor=web.DataReader('F-F_Research_Data_Factors','famafrench',start=start_date)[0]\n",
        "df_three_factor=df_three_factor.div(100)\n",
        "df_three_factor.index=df_three_factor.index.format()\n"
      ],
      "execution_count": 71,
      "outputs": []
    },
    {
      "cell_type": "code",
      "metadata": {
        "id": "rZ_Y2SjRCvrs"
      },
      "source": [
        "portfolio=yf.download(Assets,start=start_date,end=end_date,adjusted=True,progress=False)\n"
      ],
      "execution_count": 72,
      "outputs": []
    },
    {
      "cell_type": "code",
      "metadata": {
        "id": "iToUMRjHESaY"
      },
      "source": [
        "portfolio=portfolio['Adj Close'].resample('M') \\\n",
        "                                .last() \\\n",
        "                                .pct_change() \\\n",
        "                                .dropna()\n",
        "portfolio.index=portfolio.index.strftime('%Y-%m')"
      ],
      "execution_count": 73,
      "outputs": []
    },
    {
      "cell_type": "code",
      "metadata": {
        "colab": {
          "base_uri": "https://localhost:8080/",
          "height": 238
        },
        "id": "WClFAklpFys2",
        "outputId": "b113b132-4d1b-46bf-f08c-095a35fb3119"
      },
      "source": [
        "portfolio.head()"
      ],
      "execution_count": 74,
      "outputs": [
        {
          "output_type": "execute_result",
          "data": {
            "text/html": [
              "<div>\n",
              "<style scoped>\n",
              "    .dataframe tbody tr th:only-of-type {\n",
              "        vertical-align: middle;\n",
              "    }\n",
              "\n",
              "    .dataframe tbody tr th {\n",
              "        vertical-align: top;\n",
              "    }\n",
              "\n",
              "    .dataframe thead th {\n",
              "        text-align: right;\n",
              "    }\n",
              "</style>\n",
              "<table border=\"1\" class=\"dataframe\">\n",
              "  <thead>\n",
              "    <tr style=\"text-align: right;\">\n",
              "      <th></th>\n",
              "      <th>AAPL</th>\n",
              "      <th>AMZN</th>\n",
              "      <th>GOOG</th>\n",
              "      <th>MSFT</th>\n",
              "      <th>TSLA</th>\n",
              "    </tr>\n",
              "    <tr>\n",
              "      <th>Date</th>\n",
              "      <th></th>\n",
              "      <th></th>\n",
              "      <th></th>\n",
              "      <th></th>\n",
              "      <th></th>\n",
              "    </tr>\n",
              "  </thead>\n",
              "  <tbody>\n",
              "    <tr>\n",
              "      <th>2010-07</th>\n",
              "      <td>0.022741</td>\n",
              "      <td>0.078986</td>\n",
              "      <td>0.089673</td>\n",
              "      <td>0.121686</td>\n",
              "      <td>-0.163240</td>\n",
              "    </tr>\n",
              "    <tr>\n",
              "      <th>2010-08</th>\n",
              "      <td>-0.055005</td>\n",
              "      <td>0.058868</td>\n",
              "      <td>-0.071837</td>\n",
              "      <td>-0.085812</td>\n",
              "      <td>-0.023069</td>\n",
              "    </tr>\n",
              "    <tr>\n",
              "      <th>2010-09</th>\n",
              "      <td>0.167215</td>\n",
              "      <td>0.258191</td>\n",
              "      <td>0.168370</td>\n",
              "      <td>0.043460</td>\n",
              "      <td>0.047741</td>\n",
              "    </tr>\n",
              "    <tr>\n",
              "      <th>2010-10</th>\n",
              "      <td>0.060723</td>\n",
              "      <td>0.052018</td>\n",
              "      <td>0.167196</td>\n",
              "      <td>0.089016</td>\n",
              "      <td>0.070064</td>\n",
              "    </tr>\n",
              "    <tr>\n",
              "      <th>2010-11</th>\n",
              "      <td>0.033790</td>\n",
              "      <td>0.061551</td>\n",
              "      <td>-0.094492</td>\n",
              "      <td>-0.047049</td>\n",
              "      <td>0.617674</td>\n",
              "    </tr>\n",
              "  </tbody>\n",
              "</table>\n",
              "</div>"
            ],
            "text/plain": [
              "             AAPL      AMZN      GOOG      MSFT      TSLA\n",
              "Date                                                     \n",
              "2010-07  0.022741  0.078986  0.089673  0.121686 -0.163240\n",
              "2010-08 -0.055005  0.058868 -0.071837 -0.085812 -0.023069\n",
              "2010-09  0.167215  0.258191  0.168370  0.043460  0.047741\n",
              "2010-10  0.060723  0.052018  0.167196  0.089016  0.070064\n",
              "2010-11  0.033790  0.061551 -0.094492 -0.047049  0.617674"
            ]
          },
          "metadata": {},
          "execution_count": 74
        }
      ]
    },
    {
      "cell_type": "code",
      "metadata": {
        "colab": {
          "base_uri": "https://localhost:8080/",
          "height": 238
        },
        "id": "5_Y7pQrnF5O2",
        "outputId": "dfb34196-8581-4813-8713-ebc90475def7"
      },
      "source": [
        "portfolio['portfolio_rtn']=np.matmul(portfolio[Assets].values,Weights)\n",
        "portfolio.head()"
      ],
      "execution_count": 75,
      "outputs": [
        {
          "output_type": "execute_result",
          "data": {
            "text/html": [
              "<div>\n",
              "<style scoped>\n",
              "    .dataframe tbody tr th:only-of-type {\n",
              "        vertical-align: middle;\n",
              "    }\n",
              "\n",
              "    .dataframe tbody tr th {\n",
              "        vertical-align: top;\n",
              "    }\n",
              "\n",
              "    .dataframe thead th {\n",
              "        text-align: right;\n",
              "    }\n",
              "</style>\n",
              "<table border=\"1\" class=\"dataframe\">\n",
              "  <thead>\n",
              "    <tr style=\"text-align: right;\">\n",
              "      <th></th>\n",
              "      <th>AAPL</th>\n",
              "      <th>AMZN</th>\n",
              "      <th>GOOG</th>\n",
              "      <th>MSFT</th>\n",
              "      <th>TSLA</th>\n",
              "      <th>portfolio_rtn</th>\n",
              "    </tr>\n",
              "    <tr>\n",
              "      <th>Date</th>\n",
              "      <th></th>\n",
              "      <th></th>\n",
              "      <th></th>\n",
              "      <th></th>\n",
              "      <th></th>\n",
              "      <th></th>\n",
              "    </tr>\n",
              "  </thead>\n",
              "  <tbody>\n",
              "    <tr>\n",
              "      <th>2010-07</th>\n",
              "      <td>0.022741</td>\n",
              "      <td>0.078986</td>\n",
              "      <td>0.089673</td>\n",
              "      <td>0.121686</td>\n",
              "      <td>-0.163240</td>\n",
              "      <td>0.029969</td>\n",
              "    </tr>\n",
              "    <tr>\n",
              "      <th>2010-08</th>\n",
              "      <td>-0.055005</td>\n",
              "      <td>0.058868</td>\n",
              "      <td>-0.071837</td>\n",
              "      <td>-0.085812</td>\n",
              "      <td>-0.023069</td>\n",
              "      <td>-0.035371</td>\n",
              "    </tr>\n",
              "    <tr>\n",
              "      <th>2010-09</th>\n",
              "      <td>0.167215</td>\n",
              "      <td>0.258191</td>\n",
              "      <td>0.168370</td>\n",
              "      <td>0.043460</td>\n",
              "      <td>0.047741</td>\n",
              "      <td>0.136996</td>\n",
              "    </tr>\n",
              "    <tr>\n",
              "      <th>2010-10</th>\n",
              "      <td>0.060723</td>\n",
              "      <td>0.052018</td>\n",
              "      <td>0.167196</td>\n",
              "      <td>0.089016</td>\n",
              "      <td>0.070064</td>\n",
              "      <td>0.087803</td>\n",
              "    </tr>\n",
              "    <tr>\n",
              "      <th>2010-11</th>\n",
              "      <td>0.033790</td>\n",
              "      <td>0.061551</td>\n",
              "      <td>-0.094492</td>\n",
              "      <td>-0.047049</td>\n",
              "      <td>0.617674</td>\n",
              "      <td>0.114295</td>\n",
              "    </tr>\n",
              "  </tbody>\n",
              "</table>\n",
              "</div>"
            ],
            "text/plain": [
              "             AAPL      AMZN      GOOG      MSFT      TSLA  portfolio_rtn\n",
              "Date                                                                    \n",
              "2010-07  0.022741  0.078986  0.089673  0.121686 -0.163240       0.029969\n",
              "2010-08 -0.055005  0.058868 -0.071837 -0.085812 -0.023069      -0.035371\n",
              "2010-09  0.167215  0.258191  0.168370  0.043460  0.047741       0.136996\n",
              "2010-10  0.060723  0.052018  0.167196  0.089016  0.070064       0.087803\n",
              "2010-11  0.033790  0.061551 -0.094492 -0.047049  0.617674       0.114295"
            ]
          },
          "metadata": {},
          "execution_count": 75
        }
      ]
    },
    {
      "cell_type": "code",
      "metadata": {
        "colab": {
          "base_uri": "https://localhost:8080/",
          "height": 238
        },
        "id": "ivPMKR8TGt1e",
        "outputId": "1a33a66d-7b4a-43f3-c4a5-03459a57f61c"
      },
      "source": [
        "ff_data2 = portfolio.join(df_three_factor).drop(Assets, axis=1)\n",
        "ff_data2.head()"
      ],
      "execution_count": 76,
      "outputs": [
        {
          "output_type": "execute_result",
          "data": {
            "text/html": [
              "<div>\n",
              "<style scoped>\n",
              "    .dataframe tbody tr th:only-of-type {\n",
              "        vertical-align: middle;\n",
              "    }\n",
              "\n",
              "    .dataframe tbody tr th {\n",
              "        vertical-align: top;\n",
              "    }\n",
              "\n",
              "    .dataframe thead th {\n",
              "        text-align: right;\n",
              "    }\n",
              "</style>\n",
              "<table border=\"1\" class=\"dataframe\">\n",
              "  <thead>\n",
              "    <tr style=\"text-align: right;\">\n",
              "      <th></th>\n",
              "      <th>portfolio_rtn</th>\n",
              "      <th>Mkt-RF</th>\n",
              "      <th>SMB</th>\n",
              "      <th>HML</th>\n",
              "      <th>RF</th>\n",
              "    </tr>\n",
              "    <tr>\n",
              "      <th>Date</th>\n",
              "      <th></th>\n",
              "      <th></th>\n",
              "      <th></th>\n",
              "      <th></th>\n",
              "      <th></th>\n",
              "    </tr>\n",
              "  </thead>\n",
              "  <tbody>\n",
              "    <tr>\n",
              "      <th>2010-07</th>\n",
              "      <td>0.029969</td>\n",
              "      <td>0.0693</td>\n",
              "      <td>0.0024</td>\n",
              "      <td>-0.0030</td>\n",
              "      <td>0.0001</td>\n",
              "    </tr>\n",
              "    <tr>\n",
              "      <th>2010-08</th>\n",
              "      <td>-0.035371</td>\n",
              "      <td>-0.0477</td>\n",
              "      <td>-0.0295</td>\n",
              "      <td>-0.0196</td>\n",
              "      <td>0.0001</td>\n",
              "    </tr>\n",
              "    <tr>\n",
              "      <th>2010-09</th>\n",
              "      <td>0.136996</td>\n",
              "      <td>0.0954</td>\n",
              "      <td>0.0396</td>\n",
              "      <td>-0.0317</td>\n",
              "      <td>0.0001</td>\n",
              "    </tr>\n",
              "    <tr>\n",
              "      <th>2010-10</th>\n",
              "      <td>0.087803</td>\n",
              "      <td>0.0388</td>\n",
              "      <td>0.0121</td>\n",
              "      <td>-0.0249</td>\n",
              "      <td>0.0001</td>\n",
              "    </tr>\n",
              "    <tr>\n",
              "      <th>2010-11</th>\n",
              "      <td>0.114295</td>\n",
              "      <td>0.0060</td>\n",
              "      <td>0.0377</td>\n",
              "      <td>-0.0088</td>\n",
              "      <td>0.0001</td>\n",
              "    </tr>\n",
              "  </tbody>\n",
              "</table>\n",
              "</div>"
            ],
            "text/plain": [
              "         portfolio_rtn  Mkt-RF     SMB     HML      RF\n",
              "Date                                                  \n",
              "2010-07       0.029969  0.0693  0.0024 -0.0030  0.0001\n",
              "2010-08      -0.035371 -0.0477 -0.0295 -0.0196  0.0001\n",
              "2010-09       0.136996  0.0954  0.0396 -0.0317  0.0001\n",
              "2010-10       0.087803  0.0388  0.0121 -0.0249  0.0001\n",
              "2010-11       0.114295  0.0060  0.0377 -0.0088  0.0001"
            ]
          },
          "metadata": {},
          "execution_count": 76
        }
      ]
    },
    {
      "cell_type": "code",
      "metadata": {
        "colab": {
          "base_uri": "https://localhost:8080/",
          "height": 238
        },
        "id": "WPsn7QKeH1EP",
        "outputId": "8d747e23-6b32-4c6f-ad49-2e65eba48d83"
      },
      "source": [
        "ff_data2.columns = ['portf_rtn', 'mkt', 'smb', 'hml', 'rf']\n",
        "ff_data2['portf_ex_rtn'] = ff_data2.portf_rtn - ff_data2.rf\n",
        "ff_data2.head()"
      ],
      "execution_count": 77,
      "outputs": [
        {
          "output_type": "execute_result",
          "data": {
            "text/html": [
              "<div>\n",
              "<style scoped>\n",
              "    .dataframe tbody tr th:only-of-type {\n",
              "        vertical-align: middle;\n",
              "    }\n",
              "\n",
              "    .dataframe tbody tr th {\n",
              "        vertical-align: top;\n",
              "    }\n",
              "\n",
              "    .dataframe thead th {\n",
              "        text-align: right;\n",
              "    }\n",
              "</style>\n",
              "<table border=\"1\" class=\"dataframe\">\n",
              "  <thead>\n",
              "    <tr style=\"text-align: right;\">\n",
              "      <th></th>\n",
              "      <th>portf_rtn</th>\n",
              "      <th>mkt</th>\n",
              "      <th>smb</th>\n",
              "      <th>hml</th>\n",
              "      <th>rf</th>\n",
              "      <th>portf_ex_rtn</th>\n",
              "    </tr>\n",
              "    <tr>\n",
              "      <th>Date</th>\n",
              "      <th></th>\n",
              "      <th></th>\n",
              "      <th></th>\n",
              "      <th></th>\n",
              "      <th></th>\n",
              "      <th></th>\n",
              "    </tr>\n",
              "  </thead>\n",
              "  <tbody>\n",
              "    <tr>\n",
              "      <th>2010-07</th>\n",
              "      <td>0.029969</td>\n",
              "      <td>0.0693</td>\n",
              "      <td>0.0024</td>\n",
              "      <td>-0.0030</td>\n",
              "      <td>0.0001</td>\n",
              "      <td>0.029869</td>\n",
              "    </tr>\n",
              "    <tr>\n",
              "      <th>2010-08</th>\n",
              "      <td>-0.035371</td>\n",
              "      <td>-0.0477</td>\n",
              "      <td>-0.0295</td>\n",
              "      <td>-0.0196</td>\n",
              "      <td>0.0001</td>\n",
              "      <td>-0.035471</td>\n",
              "    </tr>\n",
              "    <tr>\n",
              "      <th>2010-09</th>\n",
              "      <td>0.136996</td>\n",
              "      <td>0.0954</td>\n",
              "      <td>0.0396</td>\n",
              "      <td>-0.0317</td>\n",
              "      <td>0.0001</td>\n",
              "      <td>0.136896</td>\n",
              "    </tr>\n",
              "    <tr>\n",
              "      <th>2010-10</th>\n",
              "      <td>0.087803</td>\n",
              "      <td>0.0388</td>\n",
              "      <td>0.0121</td>\n",
              "      <td>-0.0249</td>\n",
              "      <td>0.0001</td>\n",
              "      <td>0.087703</td>\n",
              "    </tr>\n",
              "    <tr>\n",
              "      <th>2010-11</th>\n",
              "      <td>0.114295</td>\n",
              "      <td>0.0060</td>\n",
              "      <td>0.0377</td>\n",
              "      <td>-0.0088</td>\n",
              "      <td>0.0001</td>\n",
              "      <td>0.114195</td>\n",
              "    </tr>\n",
              "  </tbody>\n",
              "</table>\n",
              "</div>"
            ],
            "text/plain": [
              "         portf_rtn     mkt     smb     hml      rf  portf_ex_rtn\n",
              "Date                                                            \n",
              "2010-07   0.029969  0.0693  0.0024 -0.0030  0.0001      0.029869\n",
              "2010-08  -0.035371 -0.0477 -0.0295 -0.0196  0.0001     -0.035471\n",
              "2010-09   0.136996  0.0954  0.0396 -0.0317  0.0001      0.136896\n",
              "2010-10   0.087803  0.0388  0.0121 -0.0249  0.0001      0.087703\n",
              "2010-11   0.114295  0.0060  0.0377 -0.0088  0.0001      0.114195"
            ]
          },
          "metadata": {},
          "execution_count": 77
        }
      ]
    },
    {
      "cell_type": "code",
      "metadata": {
        "id": "TuyTGjo4MRP1"
      },
      "source": [
        "def rolling_factor_model(input_data,formula,window_size):\n",
        "    coeffs=[]\n",
        "    for start_index in range(len(input_data)-window_size+1):\n",
        "        end_index=start_index+window_size\n",
        "\n",
        "        ff_model=smf.ols(formula=formula,data=input_data[start_index:end_index]).fit()\n",
        "        coeffs.append(ff_model.params)\n",
        "\n",
        "\n",
        "\n",
        "    coeffs_df=pd.DataFrame(coeffs,index=input_data.index[window_size-1:])\n",
        "\n",
        "    return coeffs_df"
      ],
      "execution_count": 84,
      "outputs": []
    },
    {
      "cell_type": "code",
      "metadata": {
        "colab": {
          "base_uri": "https://localhost:8080/",
          "height": 313
        },
        "id": "rS3aIABfOnNq",
        "outputId": "49270e39-7b98-416b-814f-c716d4226340"
      },
      "source": [
        "MODEL_FORMULA='portf_ex_rtn ~ mkt + smb + hml'\n",
        "results_df=rolling_factor_model(ff_data2,MODEL_FORMULA,window_size=60)\n",
        "results_df.plot(title='Rolling Fama-French Three-Factor model')"
      ],
      "execution_count": 85,
      "outputs": [
        {
          "output_type": "execute_result",
          "data": {
            "text/plain": [
              "<matplotlib.axes._subplots.AxesSubplot at 0x7f105a1e3cd0>"
            ]
          },
          "metadata": {},
          "execution_count": 85
        },
        {
          "output_type": "display_data",
          "data": {
            "image/png": "[encoded data removed]",
            "text/plain": [
              "<Figure size 432x288 with 1 Axes>"
            ]
          },
          "metadata": {
            "needs_background": "light"
          }
        }
      ]
    },
    {
      "cell_type": "code",
      "metadata": {
        "id": "zGwkhYKEPq8b"
      },
      "source": [
        ""
      ],
      "execution_count": null,
      "outputs": []
    }
  ]
}