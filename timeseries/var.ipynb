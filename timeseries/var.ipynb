{
  "nbformat": 4,
  "nbformat_minor": 0,
  "metadata": {
    "colab": {
      "name": "var.ipynb",
      "provenance": [],
      "collapsed_sections": []
    },
    "kernelspec": {
      "name": "python3",
      "display_name": "Python 3"
    },
    "language_info": {
      "name": "python"
    }
  },
  "cells": [
    {
      "cell_type": "code",
      "metadata": {
        "colab": {
          "base_uri": "https://localhost:8080/"
        },
        "id": "PpCEhrOD556a",
        "outputId": "b0f038c6-651b-4994-f457-500a61b0e4f8"
      },
      "source": [
        "!pip install yfinance"
      ],
      "execution_count": 1,
      "outputs": [
        {
          "output_type": "stream",
          "name": "stdout",
          "text": [
            "Collecting yfinance\n",
            "  Downloading yfinance-0.1.67-py2.py3-none-any.whl (25 kB)\n",
            "Requirement already satisfied: numpy>=1.15 in /usr/local/lib/python3.7/dist-packages (from yfinance) (1.19.5)\n",
            "Requirement already satisfied: requests>=2.20 in /usr/local/lib/python3.7/dist-packages (from yfinance) (2.23.0)\n",
            "Collecting lxml>=4.5.1\n",
            "  Downloading lxml-4.6.4-cp37-cp37m-manylinux_2_17_x86_64.manylinux2014_x86_64.manylinux_2_24_x86_64.whl (6.3 MB)\n",
            "\u001b[K     |████████████████████████████████| 6.3 MB 15.3 MB/s \n",
            "\u001b[?25hRequirement already satisfied: pandas>=0.24 in /usr/local/lib/python3.7/dist-packages (from yfinance) (1.1.5)\n",
            "Requirement already satisfied: multitasking>=0.0.7 in /usr/local/lib/python3.7/dist-packages (from yfinance) (0.0.10)\n",
            "Requirement already satisfied: python-dateutil>=2.7.3 in /usr/local/lib/python3.7/dist-packages (from pandas>=0.24->yfinance) (2.8.2)\n",
            "Requirement already satisfied: pytz>=2017.2 in /usr/local/lib/python3.7/dist-packages (from pandas>=0.24->yfinance) (2018.9)\n",
            "Requirement already satisfied: six>=1.5 in /usr/local/lib/python3.7/dist-packages (from python-dateutil>=2.7.3->pandas>=0.24->yfinance) (1.15.0)\n",
            "Requirement already satisfied: chardet<4,>=3.0.2 in /usr/local/lib/python3.7/dist-packages (from requests>=2.20->yfinance) (3.0.4)\n",
            "Requirement already satisfied: certifi>=2017.4.17 in /usr/local/lib/python3.7/dist-packages (from requests>=2.20->yfinance) (2021.10.8)\n",
            "Requirement already satisfied: urllib3!=1.25.0,!=1.25.1,<1.26,>=1.21.1 in /usr/local/lib/python3.7/dist-packages (from requests>=2.20->yfinance) (1.24.3)\n",
            "Requirement already satisfied: idna<3,>=2.5 in /usr/local/lib/python3.7/dist-packages (from requests>=2.20->yfinance) (2.10)\n",
            "Installing collected packages: lxml, yfinance\n",
            "  Attempting uninstall: lxml\n",
            "    Found existing installation: lxml 4.2.6\n",
            "    Uninstalling lxml-4.2.6:\n",
            "      Successfully uninstalled lxml-4.2.6\n",
            "Successfully installed lxml-4.6.4 yfinance-0.1.67\n"
          ]
        }
      ]
    },
    {
      "cell_type": "code",
      "metadata": {
        "id": "SRYbnTHV5-iZ"
      },
      "source": [
        "import numpy as np\n",
        "import pandas as pd\n",
        "import yfinance as yf\n",
        "import matplotlib.pyplot as plt\n",
        "from numpy import linalg\n",
        "import seaborn as sns"
      ],
      "execution_count": 23,
      "outputs": []
    },
    {
      "cell_type": "code",
      "metadata": {
        "id": "ynwkxqP96Ea6"
      },
      "source": [
        "assets=['MSFT','TSLA']\n",
        "SHARES=[5,5]\n",
        "START_DATE='2018-01-01'\n",
        "END_DATE='2018-12-31'\n",
        "T=1\n",
        "N_SIMS=10**5"
      ],
      "execution_count": 13,
      "outputs": []
    },
    {
      "cell_type": "code",
      "metadata": {
        "colab": {
          "base_uri": "https://localhost:8080/",
          "height": 287
        },
        "id": "mFLji0hn6W6b",
        "outputId": "1bc15ac0-c590-4ffe-b741-ba8c7862afab"
      },
      "source": [
        "df=yf.download(assets,start=START_DATE,end=END_DATE,adjusted=True)\n",
        "df.head()"
      ],
      "execution_count": 4,
      "outputs": [
        {
          "output_type": "stream",
          "name": "stdout",
          "text": [
            "[*********************100%***********************]  2 of 2 completed\n"
          ]
        },
        {
          "output_type": "execute_result",
          "data": {
            "text/html": [
              "<div>\n",
              "<style scoped>\n",
              "    .dataframe tbody tr th:only-of-type {\n",
              "        vertical-align: middle;\n",
              "    }\n",
              "\n",
              "    .dataframe tbody tr th {\n",
              "        vertical-align: top;\n",
              "    }\n",
              "\n",
              "    .dataframe thead tr th {\n",
              "        text-align: left;\n",
              "    }\n",
              "\n",
              "    .dataframe thead tr:last-of-type th {\n",
              "        text-align: right;\n",
              "    }\n",
              "</style>\n",
              "<table border=\"1\" class=\"dataframe\">\n",
              "  <thead>\n",
              "    <tr>\n",
              "      <th></th>\n",
              "      <th colspan=\"2\" halign=\"left\">Adj Close</th>\n",
              "      <th colspan=\"2\" halign=\"left\">Close</th>\n",
              "      <th colspan=\"2\" halign=\"left\">High</th>\n",
              "      <th colspan=\"2\" halign=\"left\">Low</th>\n",
              "      <th colspan=\"2\" halign=\"left\">Open</th>\n",
              "      <th colspan=\"2\" halign=\"left\">Volume</th>\n",
              "    </tr>\n",
              "    <tr>\n",
              "      <th></th>\n",
              "      <th>MSFT</th>\n",
              "      <th>TSLA</th>\n",
              "      <th>MSFT</th>\n",
              "      <th>TSLA</th>\n",
              "      <th>MSFT</th>\n",
              "      <th>TSLA</th>\n",
              "      <th>MSFT</th>\n",
              "      <th>TSLA</th>\n",
              "      <th>MSFT</th>\n",
              "      <th>TSLA</th>\n",
              "      <th>MSFT</th>\n",
              "      <th>TSLA</th>\n",
              "    </tr>\n",
              "    <tr>\n",
              "      <th>Date</th>\n",
              "      <th></th>\n",
              "      <th></th>\n",
              "      <th></th>\n",
              "      <th></th>\n",
              "      <th></th>\n",
              "      <th></th>\n",
              "      <th></th>\n",
              "      <th></th>\n",
              "      <th></th>\n",
              "      <th></th>\n",
              "      <th></th>\n",
              "      <th></th>\n",
              "    </tr>\n",
              "  </thead>\n",
              "  <tbody>\n",
              "    <tr>\n",
              "      <th>2018-01-02</th>\n",
              "      <td>81.698814</td>\n",
              "      <td>64.106003</td>\n",
              "      <td>85.949997</td>\n",
              "      <td>64.106003</td>\n",
              "      <td>86.309998</td>\n",
              "      <td>64.421997</td>\n",
              "      <td>85.500000</td>\n",
              "      <td>62.200001</td>\n",
              "      <td>86.129997</td>\n",
              "      <td>62.400002</td>\n",
              "      <td>22483800</td>\n",
              "      <td>21761000</td>\n",
              "    </tr>\n",
              "    <tr>\n",
              "      <th>2018-01-03</th>\n",
              "      <td>82.079025</td>\n",
              "      <td>63.450001</td>\n",
              "      <td>86.349998</td>\n",
              "      <td>63.450001</td>\n",
              "      <td>86.510002</td>\n",
              "      <td>65.050003</td>\n",
              "      <td>85.970001</td>\n",
              "      <td>63.110001</td>\n",
              "      <td>86.059998</td>\n",
              "      <td>64.199997</td>\n",
              "      <td>26061400</td>\n",
              "      <td>22607500</td>\n",
              "    </tr>\n",
              "    <tr>\n",
              "      <th>2018-01-04</th>\n",
              "      <td>82.801445</td>\n",
              "      <td>62.924000</td>\n",
              "      <td>87.110001</td>\n",
              "      <td>62.924000</td>\n",
              "      <td>87.660004</td>\n",
              "      <td>63.709999</td>\n",
              "      <td>86.570000</td>\n",
              "      <td>61.136002</td>\n",
              "      <td>86.589996</td>\n",
              "      <td>62.574001</td>\n",
              "      <td>21912000</td>\n",
              "      <td>49731500</td>\n",
              "    </tr>\n",
              "    <tr>\n",
              "      <th>2018-01-05</th>\n",
              "      <td>83.828026</td>\n",
              "      <td>63.316002</td>\n",
              "      <td>88.190002</td>\n",
              "      <td>63.316002</td>\n",
              "      <td>88.410004</td>\n",
              "      <td>63.448002</td>\n",
              "      <td>87.430000</td>\n",
              "      <td>62.400002</td>\n",
              "      <td>87.660004</td>\n",
              "      <td>63.324001</td>\n",
              "      <td>23407100</td>\n",
              "      <td>22956000</td>\n",
              "    </tr>\n",
              "    <tr>\n",
              "      <th>2018-01-08</th>\n",
              "      <td>83.913559</td>\n",
              "      <td>67.281998</td>\n",
              "      <td>88.279999</td>\n",
              "      <td>67.281998</td>\n",
              "      <td>88.580002</td>\n",
              "      <td>67.403999</td>\n",
              "      <td>87.599998</td>\n",
              "      <td>63.099998</td>\n",
              "      <td>88.199997</td>\n",
              "      <td>63.200001</td>\n",
              "      <td>22113000</td>\n",
              "      <td>49297000</td>\n",
              "    </tr>\n",
              "  </tbody>\n",
              "</table>\n",
              "</div>"
            ],
            "text/plain": [
              "            Adj Close                 Close  ...       Open    Volume          \n",
              "                 MSFT       TSLA       MSFT  ...       TSLA      MSFT      TSLA\n",
              "Date                                         ...                               \n",
              "2018-01-02  81.698814  64.106003  85.949997  ...  62.400002  22483800  21761000\n",
              "2018-01-03  82.079025  63.450001  86.349998  ...  64.199997  26061400  22607500\n",
              "2018-01-04  82.801445  62.924000  87.110001  ...  62.574001  21912000  49731500\n",
              "2018-01-05  83.828026  63.316002  88.190002  ...  63.324001  23407100  22956000\n",
              "2018-01-08  83.913559  67.281998  88.279999  ...  63.200001  22113000  49297000\n",
              "\n",
              "[5 rows x 12 columns]"
            ]
          },
          "metadata": {},
          "execution_count": 4
        }
      ]
    },
    {
      "cell_type": "code",
      "metadata": {
        "colab": {
          "base_uri": "https://localhost:8080/",
          "height": 311
        },
        "id": "kKIfW4xJ6j9n",
        "outputId": "a9324700-0b23-448d-96bb-af48c730580e"
      },
      "source": [
        "adj_close=df['Adj Close']\n",
        "returns=adj_close.pct_change().dropna()\n",
        "plot_title=f'{assets[0]} returns vs {assets[1]} returns'\n",
        "returns.plot(title=plot_title)"
      ],
      "execution_count": 5,
      "outputs": [
        {
          "output_type": "execute_result",
          "data": {
            "text/plain": [
              "<matplotlib.axes._subplots.AxesSubplot at 0x7f927ac1af90>"
            ]
          },
          "metadata": {},
          "execution_count": 5
        },
        {
          "output_type": "display_data",
          "data": {
            "image/png": "[encoded data removed]",
            "text/plain": [
              "<Figure size 432x288 with 1 Axes>"
            ]
          },
          "metadata": {
            "needs_background": "light"
          }
        }
      ]
    },
    {
      "cell_type": "code",
      "metadata": {
        "colab": {
          "base_uri": "https://localhost:8080/",
          "height": 112
        },
        "id": "SbbRgKEN7zQk",
        "outputId": "29cd2a87-569c-4ef2-ee16-1d60078acfd2"
      },
      "source": [
        "covmat=returns.cov()\n",
        "covmat"
      ],
      "execution_count": 7,
      "outputs": [
        {
          "output_type": "execute_result",
          "data": {
            "text/html": [
              "<div>\n",
              "<style scoped>\n",
              "    .dataframe tbody tr th:only-of-type {\n",
              "        vertical-align: middle;\n",
              "    }\n",
              "\n",
              "    .dataframe tbody tr th {\n",
              "        vertical-align: top;\n",
              "    }\n",
              "\n",
              "    .dataframe thead th {\n",
              "        text-align: right;\n",
              "    }\n",
              "</style>\n",
              "<table border=\"1\" class=\"dataframe\">\n",
              "  <thead>\n",
              "    <tr style=\"text-align: right;\">\n",
              "      <th></th>\n",
              "      <th>MSFT</th>\n",
              "      <th>TSLA</th>\n",
              "    </tr>\n",
              "  </thead>\n",
              "  <tbody>\n",
              "    <tr>\n",
              "      <th>MSFT</th>\n",
              "      <td>0.000319</td>\n",
              "      <td>0.000258</td>\n",
              "    </tr>\n",
              "    <tr>\n",
              "      <th>TSLA</th>\n",
              "      <td>0.000258</td>\n",
              "      <td>0.001369</td>\n",
              "    </tr>\n",
              "  </tbody>\n",
              "</table>\n",
              "</div>"
            ],
            "text/plain": [
              "          MSFT      TSLA\n",
              "MSFT  0.000319  0.000258\n",
              "TSLA  0.000258  0.001369"
            ]
          },
          "metadata": {},
          "execution_count": 7
        }
      ]
    },
    {
      "cell_type": "code",
      "metadata": {
        "id": "EKFcYOI07-8m"
      },
      "source": [
        "chol=linalg.cholesky(covmat)"
      ],
      "execution_count": 9,
      "outputs": []
    },
    {
      "cell_type": "code",
      "metadata": {
        "id": "QtihSEtC8ORL"
      },
      "source": [
        "rv=np.random.normal(size=(N_SIMS,len(assets)))\n",
        "correlated_rv=np.matmul(chol,rv.T).T"
      ],
      "execution_count": 10,
      "outputs": []
    },
    {
      "cell_type": "code",
      "metadata": {
        "id": "xmvzgPdq-q9S"
      },
      "source": [
        "r=np.mean(returns,axis=0).values\n",
        "sigma=np.std(returns,axis=0).values\n",
        "S_0=adj_close.values[-1,:]\n",
        "P_0=np.sum(SHARES*S_0)"
      ],
      "execution_count": 14,
      "outputs": []
    },
    {
      "cell_type": "code",
      "metadata": {
        "id": "yD5QB9I0_Bl3"
      },
      "source": [
        "S_T=S_0*np.exp((r-0.5*sigma**2)*T+sigma*np.sqrt(T)*correlated_rv)"
      ],
      "execution_count": 15,
      "outputs": []
    },
    {
      "cell_type": "code",
      "metadata": {
        "id": "LYFLBKkv_juQ"
      },
      "source": [
        "P_T=np.sum(SHARES*S_T,axis=1)\n",
        "P_diff = P_T-P_0"
      ],
      "execution_count": 16,
      "outputs": []
    },
    {
      "cell_type": "code",
      "metadata": {
        "colab": {
          "base_uri": "https://localhost:8080/"
        },
        "id": "3NyliRKo_szh",
        "outputId": "ff5ade14-c5d3-42e8-e434-0436bd3248f0"
      },
      "source": [
        "P_diff_sorted=np.sort(P_diff)\n",
        "percentiles=[0.01,0.1,1.]\n",
        "var=np.percentile(P_diff_sorted,percentiles)\n",
        "\n",
        "for x,y in zip(percentiles,var):\n",
        "    print(f'1-day VaR with {100-x}% confidence: {-y:.2f}$')"
      ],
      "execution_count": 21,
      "outputs": [
        {
          "output_type": "stream",
          "name": "stdout",
          "text": [
            "1-day VaR with 99.99% confidence: 1.59$\n",
            "1-day VaR with 99.9% confidence: 1.25$\n",
            "1-day VaR with 99.0% confidence: 0.84$\n"
          ]
        }
      ]
    },
    {
      "cell_type": "code",
      "metadata": {
        "colab": {
          "base_uri": "https://localhost:8080/",
          "height": 358
        },
        "id": "_fj4BRisAojV",
        "outputId": "51929a87-1a1a-4de5-8021-88b380e88450"
      },
      "source": [
        "ax=sns.distplot(P_diff,kde=False)\n",
        "ax.set_title(''' Distribution of possible 1-day changes in portfolio value 1-day 99% VaR''',fontsize=16)\n",
        "ax.axvline(var[2],0,10000)"
      ],
      "execution_count": 24,
      "outputs": [
        {
          "output_type": "stream",
          "name": "stderr",
          "text": [
            "/usr/local/lib/python3.7/dist-packages/seaborn/distributions.py:2619: FutureWarning: `distplot` is a deprecated function and will be removed in a future version. Please adapt your code to use either `displot` (a figure-level function with similar flexibility) or `histplot` (an axes-level function for histograms).\n",
            "  warnings.warn(msg, FutureWarning)\n"
          ]
        },
        {
          "output_type": "execute_result",
          "data": {
            "text/plain": [
              "<matplotlib.lines.Line2D at 0x7f926478b490>"
            ]
          },
          "metadata": {},
          "execution_count": 24
        },
        {
          "output_type": "display_data",
          "data": {
            "image/png": "[encoded data removed]",
            "text/plain": [
              "<Figure size 432x288 with 1 Axes>"
            ]
          },
          "metadata": {
            "needs_background": "light"
          }
        }
      ]
    },
    {
      "cell_type": "code",
      "metadata": {
        "id": "VNj4JyonB6QB"
      },
      "source": [
        ""
      ],
      "execution_count": null,
      "outputs": []
    }
  ]
}